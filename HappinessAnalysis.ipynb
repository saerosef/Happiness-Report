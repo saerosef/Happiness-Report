{
 "cells": [
  {
   "cell_type": "code",
   "execution_count": 1,
   "id": "a99859ca",
   "metadata": {},
   "outputs": [],
   "source": [
    "import pandas as pd\n",
    "import matplotlib.pyplot as plt\n",
    "import seaborn as sns\n",
    "import warnings\n",
    "warnings.filterwarnings(\"ignore\")"
   ]
  },
  {
   "cell_type": "code",
   "execution_count": 2,
   "id": "0167519f",
   "metadata": {},
   "outputs": [],
   "source": [
    "df=pd.read_csv('2015.csv')"
   ]
  },
  {
   "cell_type": "code",
   "execution_count": 3,
   "id": "2fb3e075",
   "metadata": {},
   "outputs": [
    {
     "data": {
      "text/html": [
       "<div>\n",
       "<style scoped>\n",
       "    .dataframe tbody tr th:only-of-type {\n",
       "        vertical-align: middle;\n",
       "    }\n",
       "\n",
       "    .dataframe tbody tr th {\n",
       "        vertical-align: top;\n",
       "    }\n",
       "\n",
       "    .dataframe thead th {\n",
       "        text-align: right;\n",
       "    }\n",
       "</style>\n",
       "<table border=\"1\" class=\"dataframe\">\n",
       "  <thead>\n",
       "    <tr style=\"text-align: right;\">\n",
       "      <th></th>\n",
       "      <th>Country</th>\n",
       "      <th>Region</th>\n",
       "      <th>Happiness Rank</th>\n",
       "      <th>Happiness Score</th>\n",
       "      <th>Standard Error</th>\n",
       "      <th>Economy (GDP per Capita)</th>\n",
       "      <th>Family</th>\n",
       "      <th>Health (Life Expectancy)</th>\n",
       "      <th>Freedom</th>\n",
       "      <th>Trust (Government Corruption)</th>\n",
       "      <th>Generosity</th>\n",
       "      <th>Dystopia Residual</th>\n",
       "    </tr>\n",
       "  </thead>\n",
       "  <tbody>\n",
       "    <tr>\n",
       "      <th>0</th>\n",
       "      <td>Switzerland</td>\n",
       "      <td>Western Europe</td>\n",
       "      <td>1</td>\n",
       "      <td>7.587</td>\n",
       "      <td>0.03411</td>\n",
       "      <td>1.39651</td>\n",
       "      <td>1.34951</td>\n",
       "      <td>0.94143</td>\n",
       "      <td>0.66557</td>\n",
       "      <td>0.41978</td>\n",
       "      <td>0.29678</td>\n",
       "      <td>2.51738</td>\n",
       "    </tr>\n",
       "    <tr>\n",
       "      <th>1</th>\n",
       "      <td>Iceland</td>\n",
       "      <td>Western Europe</td>\n",
       "      <td>2</td>\n",
       "      <td>7.561</td>\n",
       "      <td>0.04884</td>\n",
       "      <td>1.30232</td>\n",
       "      <td>1.40223</td>\n",
       "      <td>0.94784</td>\n",
       "      <td>0.62877</td>\n",
       "      <td>0.14145</td>\n",
       "      <td>0.43630</td>\n",
       "      <td>2.70201</td>\n",
       "    </tr>\n",
       "    <tr>\n",
       "      <th>2</th>\n",
       "      <td>Denmark</td>\n",
       "      <td>Western Europe</td>\n",
       "      <td>3</td>\n",
       "      <td>7.527</td>\n",
       "      <td>0.03328</td>\n",
       "      <td>1.32548</td>\n",
       "      <td>1.36058</td>\n",
       "      <td>0.87464</td>\n",
       "      <td>0.64938</td>\n",
       "      <td>0.48357</td>\n",
       "      <td>0.34139</td>\n",
       "      <td>2.49204</td>\n",
       "    </tr>\n",
       "    <tr>\n",
       "      <th>3</th>\n",
       "      <td>Norway</td>\n",
       "      <td>Western Europe</td>\n",
       "      <td>4</td>\n",
       "      <td>7.522</td>\n",
       "      <td>0.03880</td>\n",
       "      <td>1.45900</td>\n",
       "      <td>1.33095</td>\n",
       "      <td>0.88521</td>\n",
       "      <td>0.66973</td>\n",
       "      <td>0.36503</td>\n",
       "      <td>0.34699</td>\n",
       "      <td>2.46531</td>\n",
       "    </tr>\n",
       "    <tr>\n",
       "      <th>4</th>\n",
       "      <td>Canada</td>\n",
       "      <td>North America</td>\n",
       "      <td>5</td>\n",
       "      <td>7.427</td>\n",
       "      <td>0.03553</td>\n",
       "      <td>1.32629</td>\n",
       "      <td>1.32261</td>\n",
       "      <td>0.90563</td>\n",
       "      <td>0.63297</td>\n",
       "      <td>0.32957</td>\n",
       "      <td>0.45811</td>\n",
       "      <td>2.45176</td>\n",
       "    </tr>\n",
       "    <tr>\n",
       "      <th>5</th>\n",
       "      <td>Finland</td>\n",
       "      <td>Western Europe</td>\n",
       "      <td>6</td>\n",
       "      <td>7.406</td>\n",
       "      <td>0.03140</td>\n",
       "      <td>1.29025</td>\n",
       "      <td>1.31826</td>\n",
       "      <td>0.88911</td>\n",
       "      <td>0.64169</td>\n",
       "      <td>0.41372</td>\n",
       "      <td>0.23351</td>\n",
       "      <td>2.61955</td>\n",
       "    </tr>\n",
       "    <tr>\n",
       "      <th>6</th>\n",
       "      <td>Netherlands</td>\n",
       "      <td>Western Europe</td>\n",
       "      <td>7</td>\n",
       "      <td>7.378</td>\n",
       "      <td>0.02799</td>\n",
       "      <td>1.32944</td>\n",
       "      <td>1.28017</td>\n",
       "      <td>0.89284</td>\n",
       "      <td>0.61576</td>\n",
       "      <td>0.31814</td>\n",
       "      <td>0.47610</td>\n",
       "      <td>2.46570</td>\n",
       "    </tr>\n",
       "    <tr>\n",
       "      <th>7</th>\n",
       "      <td>Sweden</td>\n",
       "      <td>Western Europe</td>\n",
       "      <td>8</td>\n",
       "      <td>7.364</td>\n",
       "      <td>0.03157</td>\n",
       "      <td>1.33171</td>\n",
       "      <td>1.28907</td>\n",
       "      <td>0.91087</td>\n",
       "      <td>0.65980</td>\n",
       "      <td>0.43844</td>\n",
       "      <td>0.36262</td>\n",
       "      <td>2.37119</td>\n",
       "    </tr>\n",
       "    <tr>\n",
       "      <th>8</th>\n",
       "      <td>New Zealand</td>\n",
       "      <td>Australia and New Zealand</td>\n",
       "      <td>9</td>\n",
       "      <td>7.286</td>\n",
       "      <td>0.03371</td>\n",
       "      <td>1.25018</td>\n",
       "      <td>1.31967</td>\n",
       "      <td>0.90837</td>\n",
       "      <td>0.63938</td>\n",
       "      <td>0.42922</td>\n",
       "      <td>0.47501</td>\n",
       "      <td>2.26425</td>\n",
       "    </tr>\n",
       "    <tr>\n",
       "      <th>9</th>\n",
       "      <td>Australia</td>\n",
       "      <td>Australia and New Zealand</td>\n",
       "      <td>10</td>\n",
       "      <td>7.284</td>\n",
       "      <td>0.04083</td>\n",
       "      <td>1.33358</td>\n",
       "      <td>1.30923</td>\n",
       "      <td>0.93156</td>\n",
       "      <td>0.65124</td>\n",
       "      <td>0.35637</td>\n",
       "      <td>0.43562</td>\n",
       "      <td>2.26646</td>\n",
       "    </tr>\n",
       "  </tbody>\n",
       "</table>\n",
       "</div>"
      ],
      "text/plain": [
       "       Country                     Region  Happiness Rank  Happiness Score  \\\n",
       "0  Switzerland             Western Europe               1            7.587   \n",
       "1      Iceland             Western Europe               2            7.561   \n",
       "2      Denmark             Western Europe               3            7.527   \n",
       "3       Norway             Western Europe               4            7.522   \n",
       "4       Canada              North America               5            7.427   \n",
       "5      Finland             Western Europe               6            7.406   \n",
       "6  Netherlands             Western Europe               7            7.378   \n",
       "7       Sweden             Western Europe               8            7.364   \n",
       "8  New Zealand  Australia and New Zealand               9            7.286   \n",
       "9    Australia  Australia and New Zealand              10            7.284   \n",
       "\n",
       "   Standard Error  Economy (GDP per Capita)   Family  \\\n",
       "0         0.03411                   1.39651  1.34951   \n",
       "1         0.04884                   1.30232  1.40223   \n",
       "2         0.03328                   1.32548  1.36058   \n",
       "3         0.03880                   1.45900  1.33095   \n",
       "4         0.03553                   1.32629  1.32261   \n",
       "5         0.03140                   1.29025  1.31826   \n",
       "6         0.02799                   1.32944  1.28017   \n",
       "7         0.03157                   1.33171  1.28907   \n",
       "8         0.03371                   1.25018  1.31967   \n",
       "9         0.04083                   1.33358  1.30923   \n",
       "\n",
       "   Health (Life Expectancy)  Freedom  Trust (Government Corruption)  \\\n",
       "0                   0.94143  0.66557                        0.41978   \n",
       "1                   0.94784  0.62877                        0.14145   \n",
       "2                   0.87464  0.64938                        0.48357   \n",
       "3                   0.88521  0.66973                        0.36503   \n",
       "4                   0.90563  0.63297                        0.32957   \n",
       "5                   0.88911  0.64169                        0.41372   \n",
       "6                   0.89284  0.61576                        0.31814   \n",
       "7                   0.91087  0.65980                        0.43844   \n",
       "8                   0.90837  0.63938                        0.42922   \n",
       "9                   0.93156  0.65124                        0.35637   \n",
       "\n",
       "   Generosity  Dystopia Residual  \n",
       "0     0.29678            2.51738  \n",
       "1     0.43630            2.70201  \n",
       "2     0.34139            2.49204  \n",
       "3     0.34699            2.46531  \n",
       "4     0.45811            2.45176  \n",
       "5     0.23351            2.61955  \n",
       "6     0.47610            2.46570  \n",
       "7     0.36262            2.37119  \n",
       "8     0.47501            2.26425  \n",
       "9     0.43562            2.26646  "
      ]
     },
     "execution_count": 3,
     "metadata": {},
     "output_type": "execute_result"
    }
   ],
   "source": [
    "df.head(10)"
   ]
  },
  {
   "cell_type": "code",
   "execution_count": 4,
   "id": "92515731",
   "metadata": {},
   "outputs": [
    {
     "data": {
      "text/plain": [
       "Index(['Country', 'Region', 'Happiness Rank', 'Happiness Score',\n",
       "       'Standard Error', 'Economy (GDP per Capita)', 'Family',\n",
       "       'Health (Life Expectancy)', 'Freedom', 'Trust (Government Corruption)',\n",
       "       'Generosity', 'Dystopia Residual'],\n",
       "      dtype='object')"
      ]
     },
     "execution_count": 4,
     "metadata": {},
     "output_type": "execute_result"
    }
   ],
   "source": [
    "df.columns"
   ]
  },
  {
   "cell_type": "code",
   "execution_count": 5,
   "id": "096e7ec1",
   "metadata": {},
   "outputs": [],
   "source": [
    "#boslukları _ ile doldurduk.\n",
    "df.columns=df.columns.str.replace(' ','_')"
   ]
  },
  {
   "cell_type": "code",
   "execution_count": 6,
   "id": "948a732a",
   "metadata": {},
   "outputs": [
    {
     "data": {
      "text/plain": [
       "Index(['Country', 'Region', 'Happiness_Rank', 'Happiness_Score',\n",
       "       'Standard_Error', 'Economy_(GDP_per_Capita)', 'Family',\n",
       "       'Health_(Life_Expectancy)', 'Freedom', 'Trust_(Government_Corruption)',\n",
       "       'Generosity', 'Dystopia_Residual'],\n",
       "      dtype='object')"
      ]
     },
     "execution_count": 6,
     "metadata": {},
     "output_type": "execute_result"
    }
   ],
   "source": [
    "df.columns"
   ]
  },
  {
   "cell_type": "code",
   "execution_count": 7,
   "id": "29ca76b0",
   "metadata": {},
   "outputs": [
    {
     "data": {
      "text/plain": [
       "(158, 12)"
      ]
     },
     "execution_count": 7,
     "metadata": {},
     "output_type": "execute_result"
    }
   ],
   "source": [
    "#158 satır 12 sütün\n",
    "df.shape"
   ]
  },
  {
   "cell_type": "code",
   "execution_count": 8,
   "id": "6174dbbf",
   "metadata": {},
   "outputs": [
    {
     "data": {
      "text/plain": [
       "Country                           object\n",
       "Region                            object\n",
       "Happiness_Rank                     int64\n",
       "Happiness_Score                  float64\n",
       "Standard_Error                   float64\n",
       "Economy_(GDP_per_Capita)         float64\n",
       "Family                           float64\n",
       "Health_(Life_Expectancy)         float64\n",
       "Freedom                          float64\n",
       "Trust_(Government_Corruption)    float64\n",
       "Generosity                       float64\n",
       "Dystopia_Residual                float64\n",
       "dtype: object"
      ]
     },
     "execution_count": 8,
     "metadata": {},
     "output_type": "execute_result"
    }
   ],
   "source": [
    "# data type düzgün\n",
    "df.dtypes"
   ]
  },
  {
   "cell_type": "code",
   "execution_count": 9,
   "id": "2a0cc935",
   "metadata": {},
   "outputs": [
    {
     "data": {
      "text/plain": [
       "Country                          0\n",
       "Region                           0\n",
       "Happiness_Rank                   0\n",
       "Happiness_Score                  0\n",
       "Standard_Error                   0\n",
       "Economy_(GDP_per_Capita)         0\n",
       "Family                           0\n",
       "Health_(Life_Expectancy)         0\n",
       "Freedom                          0\n",
       "Trust_(Government_Corruption)    0\n",
       "Generosity                       0\n",
       "Dystopia_Residual                0\n",
       "dtype: int64"
      ]
     },
     "execution_count": 9,
     "metadata": {},
     "output_type": "execute_result"
    }
   ],
   "source": [
    "# eksik veri yok\n",
    "df.isnull().sum()"
   ]
  },
  {
   "cell_type": "code",
   "execution_count": 10,
   "id": "23918953",
   "metadata": {},
   "outputs": [],
   "source": [
    "df=df.rename(columns={\"Economy_(GDP_per_Capita)\":\"Economy\",\"Health_(Life_Expectancy)\":\"Life_Expectancy\",\n",
    "                      \"Trust_(Government_Corruption)\":\"Government_Corruption\",\n",
    "                      \"Happiness_Rank\":\"Rank\"\n",
    "                      })"
   ]
  },
  {
   "cell_type": "code",
   "execution_count": 11,
   "id": "96491b46",
   "metadata": {},
   "outputs": [
    {
     "data": {
      "text/plain": [
       "Index(['Country', 'Region', 'Rank', 'Happiness_Score', 'Standard_Error',\n",
       "       'Economy', 'Family', 'Life_Expectancy', 'Freedom',\n",
       "       'Government_Corruption', 'Generosity', 'Dystopia_Residual'],\n",
       "      dtype='object')"
      ]
     },
     "execution_count": 11,
     "metadata": {},
     "output_type": "execute_result"
    }
   ],
   "source": [
    "df.columns"
   ]
  },
  {
   "cell_type": "markdown",
   "id": "81b862f8",
   "metadata": {},
   "source": [
    "## TOP 10 HAPPINES COUNTRY"
   ]
  },
  {
   "cell_type": "code",
   "execution_count": 12,
   "id": "12f3068b",
   "metadata": {},
   "outputs": [
    {
     "data": {
      "text/plain": [
       "158"
      ]
     },
     "execution_count": 12,
     "metadata": {},
     "output_type": "execute_result"
    }
   ],
   "source": [
    "# 158 ülke var\n",
    "len(df[\"Country\"].unique())"
   ]
  },
  {
   "cell_type": "code",
   "execution_count": 13,
   "id": "a19751a1",
   "metadata": {},
   "outputs": [
    {
     "data": {
      "text/plain": [
       "<AxesSubplot:xlabel='Happiness_Score', ylabel='Country'>"
      ]
     },
     "execution_count": 13,
     "metadata": {},
     "output_type": "execute_result"
    },
    {
     "data": {
      "image/png": "[encoded data removed]",
      "text/plain": [
       "<Figure size 432x288 with 1 Axes>"
      ]
     },
     "metadata": {
      "needs_background": "light"
     },
     "output_type": "display_data"
    }
   ],
   "source": [
    "# En mutlu 10 ülke\n",
    "sns.barplot(y = df[\"Country\"][:10], x = df[\"Happiness_Score\"][:10])"
   ]
  },
  {
   "cell_type": "code",
   "execution_count": 14,
   "id": "fd464fa6",
   "metadata": {},
   "outputs": [
    {
     "data": {
      "text/plain": [
       "<AxesSubplot:xlabel='Happiness_Score', ylabel='Country'>"
      ]
     },
     "execution_count": 14,
     "metadata": {},
     "output_type": "execute_result"
    },
    {
     "data": {
      "image/png": "[encoded data removed]",
      "text/plain": [
       "<Figure size 432x288 with 1 Axes>"
      ]
     },
     "metadata": {
      "needs_background": "light"
     },
     "output_type": "display_data"
    }
   ],
   "source": [
    "#En mutsuz 10 ülke\n",
    "sns.barplot(y = df[\"Country\"][-10:], x = df[\"Happiness_Score\"][-10:])"
   ]
  },
  {
   "cell_type": "code",
   "execution_count": 15,
   "id": "854f7c51",
   "metadata": {},
   "outputs": [],
   "source": [
    "#2015 yılında turkıye 76. sırada\n",
    "df_turkiye = df[df[\"Country\"]==\"Turkey\"]"
   ]
  },
  {
   "cell_type": "code",
   "execution_count": 16,
   "id": "5d3ffbd8",
   "metadata": {},
   "outputs": [
    {
     "data": {
      "text/html": [
       "<div>\n",
       "<style scoped>\n",
       "    .dataframe tbody tr th:only-of-type {\n",
       "        vertical-align: middle;\n",
       "    }\n",
       "\n",
       "    .dataframe tbody tr th {\n",
       "        vertical-align: top;\n",
       "    }\n",
       "\n",
       "    .dataframe thead th {\n",
       "        text-align: right;\n",
       "    }\n",
       "</style>\n",
       "<table border=\"1\" class=\"dataframe\">\n",
       "  <thead>\n",
       "    <tr style=\"text-align: right;\">\n",
       "      <th></th>\n",
       "      <th>Country</th>\n",
       "      <th>Region</th>\n",
       "      <th>Rank</th>\n",
       "      <th>Happiness_Score</th>\n",
       "      <th>Standard_Error</th>\n",
       "      <th>Economy</th>\n",
       "      <th>Family</th>\n",
       "      <th>Life_Expectancy</th>\n",
       "      <th>Freedom</th>\n",
       "      <th>Government_Corruption</th>\n",
       "      <th>Generosity</th>\n",
       "      <th>Dystopia_Residual</th>\n",
       "    </tr>\n",
       "  </thead>\n",
       "  <tbody>\n",
       "    <tr>\n",
       "      <th>75</th>\n",
       "      <td>Turkey</td>\n",
       "      <td>Middle East and Northern Africa</td>\n",
       "      <td>76</td>\n",
       "      <td>5.332</td>\n",
       "      <td>0.03864</td>\n",
       "      <td>1.06098</td>\n",
       "      <td>0.94632</td>\n",
       "      <td>0.73172</td>\n",
       "      <td>0.22815</td>\n",
       "      <td>0.15746</td>\n",
       "      <td>0.12253</td>\n",
       "      <td>2.08528</td>\n",
       "    </tr>\n",
       "  </tbody>\n",
       "</table>\n",
       "</div>"
      ],
      "text/plain": [
       "   Country                           Region  Rank  Happiness_Score  \\\n",
       "75  Turkey  Middle East and Northern Africa    76            5.332   \n",
       "\n",
       "    Standard_Error  Economy   Family  Life_Expectancy  Freedom  \\\n",
       "75         0.03864  1.06098  0.94632          0.73172  0.22815   \n",
       "\n",
       "    Government_Corruption  Generosity  Dystopia_Residual  \n",
       "75                0.15746     0.12253            2.08528  "
      ]
     },
     "execution_count": 16,
     "metadata": {},
     "output_type": "execute_result"
    }
   ],
   "source": [
    "df_turkiye"
   ]
  },
  {
   "cell_type": "code",
   "execution_count": 17,
   "id": "b90458ae",
   "metadata": {},
   "outputs": [
    {
     "data": {
      "text/plain": [
       "<AxesSubplot:xlabel='Happiness_Score', ylabel='Country'>"
      ]
     },
     "execution_count": 17,
     "metadata": {},
     "output_type": "execute_result"
    },
    {
     "data": {
      "image/png": "[encoded data removed]",
      "text/plain": [
       "<Figure size 432x288 with 1 Axes>"
      ]
     },
     "metadata": {
      "needs_background": "light"
     },
     "output_type": "display_data"
    }
   ],
   "source": [
    "sns.barplot(y = df[\"Country\"][70:80], x = df[\"Happiness_Score\"][70:80])"
   ]
  },
  {
   "cell_type": "markdown",
   "id": "59a54410",
   "metadata": {},
   "source": [
    "## DİGER FAKTORLER"
   ]
  },
  {
   "cell_type": "code",
   "execution_count": 18,
   "id": "258a122f",
   "metadata": {},
   "outputs": [
    {
     "data": {
      "text/plain": [
       "Index(['Country', 'Region', 'Rank', 'Happiness_Score', 'Standard_Error',\n",
       "       'Economy', 'Family', 'Life_Expectancy', 'Freedom',\n",
       "       'Government_Corruption', 'Generosity', 'Dystopia_Residual'],\n",
       "      dtype='object')"
      ]
     },
     "execution_count": 18,
     "metadata": {},
     "output_type": "execute_result"
    }
   ],
   "source": [
    "df.columns\n"
   ]
  },
  {
   "cell_type": "code",
   "execution_count": 19,
   "id": "31bc7f04",
   "metadata": {},
   "outputs": [
    {
     "data": {
      "image/png": "[encoded data removed]",
      "text/plain": [
       "<Figure size 1008x1008 with 6 Axes>"
      ]
     },
     "metadata": {
      "needs_background": "light"
     },
     "output_type": "display_data"
    }
   ],
   "source": [
    "f, axs = plt.subplots(3,2, figsize = (14,14), constrained_layout = True)\n",
    "\n",
    "sort_eco = df.sort_values(by = ['Economy'], ascending = False)\n",
    "sort_eco = sort_eco.head(10)\n",
    "sort_fa = df.sort_values(by = ['Family'], ascending = False)\n",
    "sort_fa = sort_fa.head(10)\n",
    "sort_he = df.sort_values(by = ['Life_Expectancy'], ascending = False)\n",
    "sort_he = sort_he.head(10)\n",
    "sort_free = df.sort_values(by = ['Freedom'], ascending = False)\n",
    "sort_free = sort_free.head(10)\n",
    "sort_gc = df.sort_values(by = ['Government_Corruption'], ascending = False)\n",
    "sort_gc = sort_gc.head(10)\n",
    "sort_genero = df.sort_values(by = ['Generosity'], ascending = False)\n",
    "sort_genero = sort_genero.head(10)\n",
    "\n",
    "ax=sns.barplot(x=\"Country\", y=\"Economy\", data=sort_eco, ax = axs[0, 0])\n",
    "ax.tick_params(axis = 'x', rotation = 45)\n",
    "ax=sns.barplot(x=\"Country\",y=\"Family\", data=sort_fa, ax = axs[0, 1])\n",
    "ax.tick_params(axis = 'x', rotation = 45)\n",
    "ax=sns.barplot(x=\"Country\",y=\"Life_Expectancy\", data=sort_he, ax = axs[1, 0])\n",
    "ax.tick_params(axis = 'x', rotation = 45)\n",
    "ax=sns.barplot(x=\"Country\",y=\"Freedom\", data=sort_free, ax = axs[1, 1])\n",
    "ax.tick_params(axis = 'x', rotation = 45)\n",
    "ax=sns.barplot(x=\"Country\",y=\"Government_Corruption\", data = sort_gc, ax = axs[2, 0])\n",
    "ax.tick_params(axis = 'x', rotation = 45)\n",
    "ax=sns.barplot(x=\"Country\",y=\"Generosity\", data=sort_genero, ax = axs[2, 1])\n",
    "ax.tick_params(axis = 'x', rotation = 45)"
   ]
  },
  {
   "cell_type": "markdown",
   "id": "ea1357db",
   "metadata": {},
   "source": [
    "## Dıger Yıllar"
   ]
  },
  {
   "cell_type": "code",
   "execution_count": 44,
   "id": "c8eaacea",
   "metadata": {},
   "outputs": [],
   "source": [
    "df1=pd.read_csv('2016.csv')\n",
    "df2=pd.read_csv('2017.csv')\n",
    "df3=pd.read_csv('2018.csv')\n",
    "df4=pd.read_csv('2019.csv')"
   ]
  },
  {
   "cell_type": "code",
   "execution_count": 45,
   "id": "a210ff89",
   "metadata": {},
   "outputs": [
    {
     "data": {
      "text/plain": [
       "Index(['Country', 'Region', 'Happiness Rank', 'Happiness Score',\n",
       "       'Lower Confidence Interval', 'Upper Confidence Interval',\n",
       "       'Economy (GDP per Capita)', 'Family', 'Health (Life Expectancy)',\n",
       "       'Freedom', 'Trust (Government Corruption)', 'Generosity',\n",
       "       'Dystopia Residual'],\n",
       "      dtype='object')"
      ]
     },
     "execution_count": 45,
     "metadata": {},
     "output_type": "execute_result"
    }
   ],
   "source": [
    "df1.columns"
   ]
  },
  {
   "cell_type": "code",
   "execution_count": 46,
   "id": "3737961a",
   "metadata": {},
   "outputs": [],
   "source": [
    "df1.columns=df1.columns.str.replace(' ','_')"
   ]
  },
  {
   "cell_type": "code",
   "execution_count": 47,
   "id": "223a0054",
   "metadata": {},
   "outputs": [],
   "source": [
    "df1=df1.rename(columns={\"Economy_(GDP_per_Capita)\":\"Economy\",\"Health_(Life_Expectancy)\":\"Life_Expectancy\",\n",
    "                      \"Trust_(Government_Corruption)\":\"Government_Corruption\",\"Happiness_Rank\":\"Rank\"\n",
    "                      })"
   ]
  },
  {
   "cell_type": "code",
   "execution_count": 48,
   "id": "d1eda228",
   "metadata": {},
   "outputs": [
    {
     "data": {
      "text/plain": [
       "Index(['Country', 'Region', 'Rank', 'Happiness_Score',\n",
       "       'Lower_Confidence_Interval', 'Upper_Confidence_Interval', 'Economy',\n",
       "       'Family', 'Life_Expectancy', 'Freedom', 'Government_Corruption',\n",
       "       'Generosity', 'Dystopia_Residual'],\n",
       "      dtype='object')"
      ]
     },
     "execution_count": 48,
     "metadata": {},
     "output_type": "execute_result"
    }
   ],
   "source": [
    "df1.columns"
   ]
  },
  {
   "cell_type": "code",
   "execution_count": 49,
   "id": "70473924",
   "metadata": {},
   "outputs": [
    {
     "data": {
      "text/html": [
       "<div>\n",
       "<style scoped>\n",
       "    .dataframe tbody tr th:only-of-type {\n",
       "        vertical-align: middle;\n",
       "    }\n",
       "\n",
       "    .dataframe tbody tr th {\n",
       "        vertical-align: top;\n",
       "    }\n",
       "\n",
       "    .dataframe thead th {\n",
       "        text-align: right;\n",
       "    }\n",
       "</style>\n",
       "<table border=\"1\" class=\"dataframe\">\n",
       "  <thead>\n",
       "    <tr style=\"text-align: right;\">\n",
       "      <th></th>\n",
       "      <th>Country</th>\n",
       "      <th>Happiness.Rank</th>\n",
       "      <th>Happiness.Score</th>\n",
       "      <th>Whisker.high</th>\n",
       "      <th>Whisker.low</th>\n",
       "      <th>Economy..GDP.per.Capita.</th>\n",
       "      <th>Family</th>\n",
       "      <th>Health..Life.Expectancy.</th>\n",
       "      <th>Freedom</th>\n",
       "      <th>Generosity</th>\n",
       "      <th>Trust..Government.Corruption.</th>\n",
       "      <th>Dystopia.Residual</th>\n",
       "    </tr>\n",
       "  </thead>\n",
       "  <tbody>\n",
       "    <tr>\n",
       "      <th>0</th>\n",
       "      <td>Norway</td>\n",
       "      <td>1</td>\n",
       "      <td>7.537</td>\n",
       "      <td>7.594445</td>\n",
       "      <td>7.479556</td>\n",
       "      <td>1.616463</td>\n",
       "      <td>1.533524</td>\n",
       "      <td>0.796667</td>\n",
       "      <td>0.635423</td>\n",
       "      <td>0.362012</td>\n",
       "      <td>0.315964</td>\n",
       "      <td>2.277027</td>\n",
       "    </tr>\n",
       "    <tr>\n",
       "      <th>1</th>\n",
       "      <td>Denmark</td>\n",
       "      <td>2</td>\n",
       "      <td>7.522</td>\n",
       "      <td>7.581728</td>\n",
       "      <td>7.462272</td>\n",
       "      <td>1.482383</td>\n",
       "      <td>1.551122</td>\n",
       "      <td>0.792566</td>\n",
       "      <td>0.626007</td>\n",
       "      <td>0.355280</td>\n",
       "      <td>0.400770</td>\n",
       "      <td>2.313707</td>\n",
       "    </tr>\n",
       "    <tr>\n",
       "      <th>2</th>\n",
       "      <td>Iceland</td>\n",
       "      <td>3</td>\n",
       "      <td>7.504</td>\n",
       "      <td>7.622030</td>\n",
       "      <td>7.385970</td>\n",
       "      <td>1.480633</td>\n",
       "      <td>1.610574</td>\n",
       "      <td>0.833552</td>\n",
       "      <td>0.627163</td>\n",
       "      <td>0.475540</td>\n",
       "      <td>0.153527</td>\n",
       "      <td>2.322715</td>\n",
       "    </tr>\n",
       "    <tr>\n",
       "      <th>3</th>\n",
       "      <td>Switzerland</td>\n",
       "      <td>4</td>\n",
       "      <td>7.494</td>\n",
       "      <td>7.561772</td>\n",
       "      <td>7.426227</td>\n",
       "      <td>1.564980</td>\n",
       "      <td>1.516912</td>\n",
       "      <td>0.858131</td>\n",
       "      <td>0.620071</td>\n",
       "      <td>0.290549</td>\n",
       "      <td>0.367007</td>\n",
       "      <td>2.276716</td>\n",
       "    </tr>\n",
       "    <tr>\n",
       "      <th>4</th>\n",
       "      <td>Finland</td>\n",
       "      <td>5</td>\n",
       "      <td>7.469</td>\n",
       "      <td>7.527542</td>\n",
       "      <td>7.410458</td>\n",
       "      <td>1.443572</td>\n",
       "      <td>1.540247</td>\n",
       "      <td>0.809158</td>\n",
       "      <td>0.617951</td>\n",
       "      <td>0.245483</td>\n",
       "      <td>0.382612</td>\n",
       "      <td>2.430182</td>\n",
       "    </tr>\n",
       "  </tbody>\n",
       "</table>\n",
       "</div>"
      ],
      "text/plain": [
       "       Country  Happiness.Rank  Happiness.Score  Whisker.high  Whisker.low  \\\n",
       "0       Norway               1            7.537      7.594445     7.479556   \n",
       "1      Denmark               2            7.522      7.581728     7.462272   \n",
       "2      Iceland               3            7.504      7.622030     7.385970   \n",
       "3  Switzerland               4            7.494      7.561772     7.426227   \n",
       "4      Finland               5            7.469      7.527542     7.410458   \n",
       "\n",
       "   Economy..GDP.per.Capita.    Family  Health..Life.Expectancy.   Freedom  \\\n",
       "0                  1.616463  1.533524                  0.796667  0.635423   \n",
       "1                  1.482383  1.551122                  0.792566  0.626007   \n",
       "2                  1.480633  1.610574                  0.833552  0.627163   \n",
       "3                  1.564980  1.516912                  0.858131  0.620071   \n",
       "4                  1.443572  1.540247                  0.809158  0.617951   \n",
       "\n",
       "   Generosity  Trust..Government.Corruption.  Dystopia.Residual  \n",
       "0    0.362012                       0.315964           2.277027  \n",
       "1    0.355280                       0.400770           2.313707  \n",
       "2    0.475540                       0.153527           2.322715  \n",
       "3    0.290549                       0.367007           2.276716  \n",
       "4    0.245483                       0.382612           2.430182  "
      ]
     },
     "execution_count": 49,
     "metadata": {},
     "output_type": "execute_result"
    }
   ],
   "source": [
    "df2.head()"
   ]
  },
  {
   "cell_type": "code",
   "execution_count": 64,
   "id": "e9c8fc00",
   "metadata": {},
   "outputs": [],
   "source": [
    "df2.columns=df2.columns.str.replace('.','_')"
   ]
  },
  {
   "cell_type": "code",
   "execution_count": 66,
   "id": "8e663621",
   "metadata": {},
   "outputs": [],
   "source": [
    "df2.columns=df2.columns.str.replace('__','_')"
   ]
  },
  {
   "cell_type": "code",
   "execution_count": 67,
   "id": "3315e5d1",
   "metadata": {},
   "outputs": [
    {
     "data": {
      "text/plain": [
       "Index(['Country', 'Happiness_Rank', 'Happiness_Score', 'Whisker_high',\n",
       "       'Whisker_low', 'Economy_GDP_per_Capita_', 'Family',\n",
       "       'Health_Life_Expectancy_', 'Freedom', 'Generosity',\n",
       "       'Trust_Government_Corruption_', 'Dystopia_Residual'],\n",
       "      dtype='object')"
      ]
     },
     "execution_count": 67,
     "metadata": {},
     "output_type": "execute_result"
    }
   ],
   "source": [
    "df2.columns"
   ]
  },
  {
   "cell_type": "code",
   "execution_count": 68,
   "id": "548186fc",
   "metadata": {},
   "outputs": [],
   "source": [
    "df2=df2.rename(columns={\"Economy_GDP_per_Capita_\":\"Economy\",\"Health_Life_Expectancy_\":\"Life_Expectancy\",\n",
    "                      \"Trust_Government_Corruption_\":\"Government_Corruption\",\"Happiness_Rank\":\"Rank\"\n",
    "                      })"
   ]
  },
  {
   "cell_type": "code",
   "execution_count": 69,
   "id": "1364d5b6",
   "metadata": {},
   "outputs": [
    {
     "data": {
      "text/plain": [
       "Index(['Country', 'Rank', 'Happiness_Score', 'Whisker_high', 'Whisker_low',\n",
       "       'Economy', 'Family', 'Life_Expectancy', 'Freedom', 'Generosity',\n",
       "       'Government_Corruption', 'Dystopia_Residual'],\n",
       "      dtype='object')"
      ]
     },
     "execution_count": 69,
     "metadata": {},
     "output_type": "execute_result"
    }
   ],
   "source": [
    "df2.columns"
   ]
  },
  {
   "cell_type": "code",
   "execution_count": 70,
   "id": "cce990bc",
   "metadata": {},
   "outputs": [
    {
     "data": {
      "text/plain": [
       "Index(['Rank', 'Country', 'Happiness_Score', 'Economy', 'Social_support',\n",
       "       'Life_Expectancy', 'Freedom_to_make_life_choices', 'Generosity',\n",
       "       'Perceptions_of_corruption'],\n",
       "      dtype='object')"
      ]
     },
     "execution_count": 70,
     "metadata": {},
     "output_type": "execute_result"
    }
   ],
   "source": [
    "df3.columns"
   ]
  },
  {
   "cell_type": "code",
   "execution_count": 71,
   "id": "1d7e1b97",
   "metadata": {},
   "outputs": [],
   "source": [
    "df3.columns=df3.columns.str.replace(' ','_')"
   ]
  },
  {
   "cell_type": "code",
   "execution_count": 72,
   "id": "acbc6e43",
   "metadata": {},
   "outputs": [
    {
     "data": {
      "text/plain": [
       "Index(['Rank', 'Country', 'Happiness_Score', 'Economy', 'Social_support',\n",
       "       'Life_Expectancy', 'Freedom_to_make_life_choices', 'Generosity',\n",
       "       'Perceptions_of_corruption'],\n",
       "      dtype='object')"
      ]
     },
     "execution_count": 72,
     "metadata": {},
     "output_type": "execute_result"
    }
   ],
   "source": [
    "df3.columns"
   ]
  },
  {
   "cell_type": "code",
   "execution_count": 73,
   "id": "12e8393c",
   "metadata": {},
   "outputs": [
    {
     "data": {
      "text/html": [
       "<div>\n",
       "<style scoped>\n",
       "    .dataframe tbody tr th:only-of-type {\n",
       "        vertical-align: middle;\n",
       "    }\n",
       "\n",
       "    .dataframe tbody tr th {\n",
       "        vertical-align: top;\n",
       "    }\n",
       "\n",
       "    .dataframe thead th {\n",
       "        text-align: right;\n",
       "    }\n",
       "</style>\n",
       "<table border=\"1\" class=\"dataframe\">\n",
       "  <thead>\n",
       "    <tr style=\"text-align: right;\">\n",
       "      <th></th>\n",
       "      <th>Rank</th>\n",
       "      <th>Country</th>\n",
       "      <th>Happiness_Score</th>\n",
       "      <th>Economy</th>\n",
       "      <th>Social_support</th>\n",
       "      <th>Life_Expectancy</th>\n",
       "      <th>Freedom_to_make_life_choices</th>\n",
       "      <th>Generosity</th>\n",
       "      <th>Perceptions_of_corruption</th>\n",
       "    </tr>\n",
       "  </thead>\n",
       "  <tbody>\n",
       "    <tr>\n",
       "      <th>0</th>\n",
       "      <td>1</td>\n",
       "      <td>Finland</td>\n",
       "      <td>7.632</td>\n",
       "      <td>1.305</td>\n",
       "      <td>1.592</td>\n",
       "      <td>0.874</td>\n",
       "      <td>0.681</td>\n",
       "      <td>0.202</td>\n",
       "      <td>0.393</td>\n",
       "    </tr>\n",
       "    <tr>\n",
       "      <th>1</th>\n",
       "      <td>2</td>\n",
       "      <td>Norway</td>\n",
       "      <td>7.594</td>\n",
       "      <td>1.456</td>\n",
       "      <td>1.582</td>\n",
       "      <td>0.861</td>\n",
       "      <td>0.686</td>\n",
       "      <td>0.286</td>\n",
       "      <td>0.340</td>\n",
       "    </tr>\n",
       "    <tr>\n",
       "      <th>2</th>\n",
       "      <td>3</td>\n",
       "      <td>Denmark</td>\n",
       "      <td>7.555</td>\n",
       "      <td>1.351</td>\n",
       "      <td>1.590</td>\n",
       "      <td>0.868</td>\n",
       "      <td>0.683</td>\n",
       "      <td>0.284</td>\n",
       "      <td>0.408</td>\n",
       "    </tr>\n",
       "    <tr>\n",
       "      <th>3</th>\n",
       "      <td>4</td>\n",
       "      <td>Iceland</td>\n",
       "      <td>7.495</td>\n",
       "      <td>1.343</td>\n",
       "      <td>1.644</td>\n",
       "      <td>0.914</td>\n",
       "      <td>0.677</td>\n",
       "      <td>0.353</td>\n",
       "      <td>0.138</td>\n",
       "    </tr>\n",
       "    <tr>\n",
       "      <th>4</th>\n",
       "      <td>5</td>\n",
       "      <td>Switzerland</td>\n",
       "      <td>7.487</td>\n",
       "      <td>1.420</td>\n",
       "      <td>1.549</td>\n",
       "      <td>0.927</td>\n",
       "      <td>0.660</td>\n",
       "      <td>0.256</td>\n",
       "      <td>0.357</td>\n",
       "    </tr>\n",
       "    <tr>\n",
       "      <th>5</th>\n",
       "      <td>6</td>\n",
       "      <td>Netherlands</td>\n",
       "      <td>7.441</td>\n",
       "      <td>1.361</td>\n",
       "      <td>1.488</td>\n",
       "      <td>0.878</td>\n",
       "      <td>0.638</td>\n",
       "      <td>0.333</td>\n",
       "      <td>0.295</td>\n",
       "    </tr>\n",
       "    <tr>\n",
       "      <th>6</th>\n",
       "      <td>7</td>\n",
       "      <td>Canada</td>\n",
       "      <td>7.328</td>\n",
       "      <td>1.330</td>\n",
       "      <td>1.532</td>\n",
       "      <td>0.896</td>\n",
       "      <td>0.653</td>\n",
       "      <td>0.321</td>\n",
       "      <td>0.291</td>\n",
       "    </tr>\n",
       "    <tr>\n",
       "      <th>7</th>\n",
       "      <td>8</td>\n",
       "      <td>New Zealand</td>\n",
       "      <td>7.324</td>\n",
       "      <td>1.268</td>\n",
       "      <td>1.601</td>\n",
       "      <td>0.876</td>\n",
       "      <td>0.669</td>\n",
       "      <td>0.365</td>\n",
       "      <td>0.389</td>\n",
       "    </tr>\n",
       "    <tr>\n",
       "      <th>8</th>\n",
       "      <td>9</td>\n",
       "      <td>Sweden</td>\n",
       "      <td>7.314</td>\n",
       "      <td>1.355</td>\n",
       "      <td>1.501</td>\n",
       "      <td>0.913</td>\n",
       "      <td>0.659</td>\n",
       "      <td>0.285</td>\n",
       "      <td>0.383</td>\n",
       "    </tr>\n",
       "    <tr>\n",
       "      <th>9</th>\n",
       "      <td>10</td>\n",
       "      <td>Australia</td>\n",
       "      <td>7.272</td>\n",
       "      <td>1.340</td>\n",
       "      <td>1.573</td>\n",
       "      <td>0.910</td>\n",
       "      <td>0.647</td>\n",
       "      <td>0.361</td>\n",
       "      <td>0.302</td>\n",
       "    </tr>\n",
       "  </tbody>\n",
       "</table>\n",
       "</div>"
      ],
      "text/plain": [
       "   Rank      Country  Happiness_Score  Economy  Social_support  \\\n",
       "0     1      Finland            7.632    1.305           1.592   \n",
       "1     2       Norway            7.594    1.456           1.582   \n",
       "2     3      Denmark            7.555    1.351           1.590   \n",
       "3     4      Iceland            7.495    1.343           1.644   \n",
       "4     5  Switzerland            7.487    1.420           1.549   \n",
       "5     6  Netherlands            7.441    1.361           1.488   \n",
       "6     7       Canada            7.328    1.330           1.532   \n",
       "7     8  New Zealand            7.324    1.268           1.601   \n",
       "8     9       Sweden            7.314    1.355           1.501   \n",
       "9    10    Australia            7.272    1.340           1.573   \n",
       "\n",
       "   Life_Expectancy  Freedom_to_make_life_choices  Generosity  \\\n",
       "0            0.874                         0.681       0.202   \n",
       "1            0.861                         0.686       0.286   \n",
       "2            0.868                         0.683       0.284   \n",
       "3            0.914                         0.677       0.353   \n",
       "4            0.927                         0.660       0.256   \n",
       "5            0.878                         0.638       0.333   \n",
       "6            0.896                         0.653       0.321   \n",
       "7            0.876                         0.669       0.365   \n",
       "8            0.913                         0.659       0.285   \n",
       "9            0.910                         0.647       0.361   \n",
       "\n",
       "   Perceptions_of_corruption  \n",
       "0                      0.393  \n",
       "1                      0.340  \n",
       "2                      0.408  \n",
       "3                      0.138  \n",
       "4                      0.357  \n",
       "5                      0.295  \n",
       "6                      0.291  \n",
       "7                      0.389  \n",
       "8                      0.383  \n",
       "9                      0.302  "
      ]
     },
     "execution_count": 73,
     "metadata": {},
     "output_type": "execute_result"
    }
   ],
   "source": [
    "df3.head(10)"
   ]
  },
  {
   "cell_type": "code",
   "execution_count": 74,
   "id": "bf26f121",
   "metadata": {},
   "outputs": [],
   "source": [
    "df3=df3.rename(columns={\"Country_or_region\":\"Country\",\"GDP_per_capita\":\"Economy\",\n",
    "                        \"Healthy_life_expectancy\":\"Life_Expectancy\",\n",
    "                      \"Score\":\"Happiness_Score\",\"Overall_rank\":\"Rank\"\n",
    "                      })"
   ]
  },
  {
   "cell_type": "code",
   "execution_count": 75,
   "id": "39dc5514",
   "metadata": {},
   "outputs": [
    {
     "data": {
      "text/plain": [
       "Index(['Rank', 'Country', 'Happiness_Score', 'Economy', 'Social_support',\n",
       "       'Life_Expectancy', 'Freedom_to_make_life_choices', 'Generosity',\n",
       "       'Perceptions_of_corruption'],\n",
       "      dtype='object')"
      ]
     },
     "execution_count": 75,
     "metadata": {},
     "output_type": "execute_result"
    }
   ],
   "source": [
    "df3.columns"
   ]
  },
  {
   "cell_type": "code",
   "execution_count": 76,
   "id": "885160e3",
   "metadata": {},
   "outputs": [
    {
     "data": {
      "text/html": [
       "<div>\n",
       "<style scoped>\n",
       "    .dataframe tbody tr th:only-of-type {\n",
       "        vertical-align: middle;\n",
       "    }\n",
       "\n",
       "    .dataframe tbody tr th {\n",
       "        vertical-align: top;\n",
       "    }\n",
       "\n",
       "    .dataframe thead th {\n",
       "        text-align: right;\n",
       "    }\n",
       "</style>\n",
       "<table border=\"1\" class=\"dataframe\">\n",
       "  <thead>\n",
       "    <tr style=\"text-align: right;\">\n",
       "      <th></th>\n",
       "      <th>Overall_rank</th>\n",
       "      <th>Country_or_region</th>\n",
       "      <th>Score</th>\n",
       "      <th>GDP_per_capita</th>\n",
       "      <th>Social_support</th>\n",
       "      <th>Healthy_life_expectancy</th>\n",
       "      <th>Freedom_to_make_life_choices</th>\n",
       "      <th>Generosity</th>\n",
       "      <th>Perceptions_of_corruption</th>\n",
       "    </tr>\n",
       "  </thead>\n",
       "  <tbody>\n",
       "    <tr>\n",
       "      <th>0</th>\n",
       "      <td>1</td>\n",
       "      <td>Finland</td>\n",
       "      <td>7.769</td>\n",
       "      <td>1.340</td>\n",
       "      <td>1.587</td>\n",
       "      <td>0.986</td>\n",
       "      <td>0.596</td>\n",
       "      <td>0.153</td>\n",
       "      <td>0.393</td>\n",
       "    </tr>\n",
       "    <tr>\n",
       "      <th>1</th>\n",
       "      <td>2</td>\n",
       "      <td>Denmark</td>\n",
       "      <td>7.600</td>\n",
       "      <td>1.383</td>\n",
       "      <td>1.573</td>\n",
       "      <td>0.996</td>\n",
       "      <td>0.592</td>\n",
       "      <td>0.252</td>\n",
       "      <td>0.410</td>\n",
       "    </tr>\n",
       "    <tr>\n",
       "      <th>2</th>\n",
       "      <td>3</td>\n",
       "      <td>Norway</td>\n",
       "      <td>7.554</td>\n",
       "      <td>1.488</td>\n",
       "      <td>1.582</td>\n",
       "      <td>1.028</td>\n",
       "      <td>0.603</td>\n",
       "      <td>0.271</td>\n",
       "      <td>0.341</td>\n",
       "    </tr>\n",
       "    <tr>\n",
       "      <th>3</th>\n",
       "      <td>4</td>\n",
       "      <td>Iceland</td>\n",
       "      <td>7.494</td>\n",
       "      <td>1.380</td>\n",
       "      <td>1.624</td>\n",
       "      <td>1.026</td>\n",
       "      <td>0.591</td>\n",
       "      <td>0.354</td>\n",
       "      <td>0.118</td>\n",
       "    </tr>\n",
       "    <tr>\n",
       "      <th>4</th>\n",
       "      <td>5</td>\n",
       "      <td>Netherlands</td>\n",
       "      <td>7.488</td>\n",
       "      <td>1.396</td>\n",
       "      <td>1.522</td>\n",
       "      <td>0.999</td>\n",
       "      <td>0.557</td>\n",
       "      <td>0.322</td>\n",
       "      <td>0.298</td>\n",
       "    </tr>\n",
       "    <tr>\n",
       "      <th>5</th>\n",
       "      <td>6</td>\n",
       "      <td>Switzerland</td>\n",
       "      <td>7.480</td>\n",
       "      <td>1.452</td>\n",
       "      <td>1.526</td>\n",
       "      <td>1.052</td>\n",
       "      <td>0.572</td>\n",
       "      <td>0.263</td>\n",
       "      <td>0.343</td>\n",
       "    </tr>\n",
       "    <tr>\n",
       "      <th>6</th>\n",
       "      <td>7</td>\n",
       "      <td>Sweden</td>\n",
       "      <td>7.343</td>\n",
       "      <td>1.387</td>\n",
       "      <td>1.487</td>\n",
       "      <td>1.009</td>\n",
       "      <td>0.574</td>\n",
       "      <td>0.267</td>\n",
       "      <td>0.373</td>\n",
       "    </tr>\n",
       "    <tr>\n",
       "      <th>7</th>\n",
       "      <td>8</td>\n",
       "      <td>New Zealand</td>\n",
       "      <td>7.307</td>\n",
       "      <td>1.303</td>\n",
       "      <td>1.557</td>\n",
       "      <td>1.026</td>\n",
       "      <td>0.585</td>\n",
       "      <td>0.330</td>\n",
       "      <td>0.380</td>\n",
       "    </tr>\n",
       "    <tr>\n",
       "      <th>8</th>\n",
       "      <td>9</td>\n",
       "      <td>Canada</td>\n",
       "      <td>7.278</td>\n",
       "      <td>1.365</td>\n",
       "      <td>1.505</td>\n",
       "      <td>1.039</td>\n",
       "      <td>0.584</td>\n",
       "      <td>0.285</td>\n",
       "      <td>0.308</td>\n",
       "    </tr>\n",
       "    <tr>\n",
       "      <th>9</th>\n",
       "      <td>10</td>\n",
       "      <td>Austria</td>\n",
       "      <td>7.246</td>\n",
       "      <td>1.376</td>\n",
       "      <td>1.475</td>\n",
       "      <td>1.016</td>\n",
       "      <td>0.532</td>\n",
       "      <td>0.244</td>\n",
       "      <td>0.226</td>\n",
       "    </tr>\n",
       "  </tbody>\n",
       "</table>\n",
       "</div>"
      ],
      "text/plain": [
       "   Overall_rank Country_or_region  Score  GDP_per_capita  Social_support  \\\n",
       "0             1           Finland  7.769           1.340           1.587   \n",
       "1             2           Denmark  7.600           1.383           1.573   \n",
       "2             3            Norway  7.554           1.488           1.582   \n",
       "3             4           Iceland  7.494           1.380           1.624   \n",
       "4             5       Netherlands  7.488           1.396           1.522   \n",
       "5             6       Switzerland  7.480           1.452           1.526   \n",
       "6             7            Sweden  7.343           1.387           1.487   \n",
       "7             8       New Zealand  7.307           1.303           1.557   \n",
       "8             9            Canada  7.278           1.365           1.505   \n",
       "9            10           Austria  7.246           1.376           1.475   \n",
       "\n",
       "   Healthy_life_expectancy  Freedom_to_make_life_choices  Generosity  \\\n",
       "0                    0.986                         0.596       0.153   \n",
       "1                    0.996                         0.592       0.252   \n",
       "2                    1.028                         0.603       0.271   \n",
       "3                    1.026                         0.591       0.354   \n",
       "4                    0.999                         0.557       0.322   \n",
       "5                    1.052                         0.572       0.263   \n",
       "6                    1.009                         0.574       0.267   \n",
       "7                    1.026                         0.585       0.330   \n",
       "8                    1.039                         0.584       0.285   \n",
       "9                    1.016                         0.532       0.244   \n",
       "\n",
       "   Perceptions_of_corruption  \n",
       "0                      0.393  \n",
       "1                      0.410  \n",
       "2                      0.341  \n",
       "3                      0.118  \n",
       "4                      0.298  \n",
       "5                      0.343  \n",
       "6                      0.373  \n",
       "7                      0.380  \n",
       "8                      0.308  \n",
       "9                      0.226  "
      ]
     },
     "execution_count": 76,
     "metadata": {},
     "output_type": "execute_result"
    }
   ],
   "source": [
    "df4.head(10)"
   ]
  },
  {
   "cell_type": "code",
   "execution_count": 77,
   "id": "da7ff5f3",
   "metadata": {},
   "outputs": [
    {
     "data": {
      "text/plain": [
       "Index(['Overall_rank', 'Country_or_region', 'Score', 'GDP_per_capita',\n",
       "       'Social_support', 'Healthy_life_expectancy',\n",
       "       'Freedom_to_make_life_choices', 'Generosity',\n",
       "       'Perceptions_of_corruption'],\n",
       "      dtype='object')"
      ]
     },
     "execution_count": 77,
     "metadata": {},
     "output_type": "execute_result"
    }
   ],
   "source": [
    "df4.columns"
   ]
  },
  {
   "cell_type": "code",
   "execution_count": 78,
   "id": "875553dc",
   "metadata": {},
   "outputs": [],
   "source": [
    "df4.columns=df4.columns.str.replace(' ','_')"
   ]
  },
  {
   "cell_type": "code",
   "execution_count": 79,
   "id": "6297ce17",
   "metadata": {},
   "outputs": [
    {
     "data": {
      "text/plain": [
       "Index(['Overall_rank', 'Country_or_region', 'Score', 'GDP_per_capita',\n",
       "       'Social_support', 'Healthy_life_expectancy',\n",
       "       'Freedom_to_make_life_choices', 'Generosity',\n",
       "       'Perceptions_of_corruption'],\n",
       "      dtype='object')"
      ]
     },
     "execution_count": 79,
     "metadata": {},
     "output_type": "execute_result"
    }
   ],
   "source": [
    "df4.columns"
   ]
  },
  {
   "cell_type": "code",
   "execution_count": 80,
   "id": "4f0fa7d6",
   "metadata": {},
   "outputs": [],
   "source": [
    "df4=df4.rename(columns={\"Country_or_region\":\"Country\",\"GDP_per_capita\":\"Economy\",\n",
    "                        \"Healthy_life_expectancy\":\"Life_Expectancy\",\n",
    "                      \"Score\":\"Happiness_Score\",\"Overall_rank\":\"Rank\"\n",
    "                      })"
   ]
  },
  {
   "cell_type": "code",
   "execution_count": 81,
   "id": "e9a0e558",
   "metadata": {},
   "outputs": [
    {
     "data": {
      "text/html": [
       "<div>\n",
       "<style scoped>\n",
       "    .dataframe tbody tr th:only-of-type {\n",
       "        vertical-align: middle;\n",
       "    }\n",
       "\n",
       "    .dataframe tbody tr th {\n",
       "        vertical-align: top;\n",
       "    }\n",
       "\n",
       "    .dataframe thead th {\n",
       "        text-align: right;\n",
       "    }\n",
       "</style>\n",
       "<table border=\"1\" class=\"dataframe\">\n",
       "  <thead>\n",
       "    <tr style=\"text-align: right;\">\n",
       "      <th></th>\n",
       "      <th>Rank</th>\n",
       "      <th>Country</th>\n",
       "      <th>Happiness_Score</th>\n",
       "      <th>Economy</th>\n",
       "      <th>Social_support</th>\n",
       "      <th>Life_Expectancy</th>\n",
       "      <th>Freedom_to_make_life_choices</th>\n",
       "      <th>Generosity</th>\n",
       "      <th>Perceptions_of_corruption</th>\n",
       "    </tr>\n",
       "  </thead>\n",
       "  <tbody>\n",
       "    <tr>\n",
       "      <th>0</th>\n",
       "      <td>1</td>\n",
       "      <td>Finland</td>\n",
       "      <td>7.769</td>\n",
       "      <td>1.340</td>\n",
       "      <td>1.587</td>\n",
       "      <td>0.986</td>\n",
       "      <td>0.596</td>\n",
       "      <td>0.153</td>\n",
       "      <td>0.393</td>\n",
       "    </tr>\n",
       "    <tr>\n",
       "      <th>1</th>\n",
       "      <td>2</td>\n",
       "      <td>Denmark</td>\n",
       "      <td>7.600</td>\n",
       "      <td>1.383</td>\n",
       "      <td>1.573</td>\n",
       "      <td>0.996</td>\n",
       "      <td>0.592</td>\n",
       "      <td>0.252</td>\n",
       "      <td>0.410</td>\n",
       "    </tr>\n",
       "    <tr>\n",
       "      <th>2</th>\n",
       "      <td>3</td>\n",
       "      <td>Norway</td>\n",
       "      <td>7.554</td>\n",
       "      <td>1.488</td>\n",
       "      <td>1.582</td>\n",
       "      <td>1.028</td>\n",
       "      <td>0.603</td>\n",
       "      <td>0.271</td>\n",
       "      <td>0.341</td>\n",
       "    </tr>\n",
       "    <tr>\n",
       "      <th>3</th>\n",
       "      <td>4</td>\n",
       "      <td>Iceland</td>\n",
       "      <td>7.494</td>\n",
       "      <td>1.380</td>\n",
       "      <td>1.624</td>\n",
       "      <td>1.026</td>\n",
       "      <td>0.591</td>\n",
       "      <td>0.354</td>\n",
       "      <td>0.118</td>\n",
       "    </tr>\n",
       "    <tr>\n",
       "      <th>4</th>\n",
       "      <td>5</td>\n",
       "      <td>Netherlands</td>\n",
       "      <td>7.488</td>\n",
       "      <td>1.396</td>\n",
       "      <td>1.522</td>\n",
       "      <td>0.999</td>\n",
       "      <td>0.557</td>\n",
       "      <td>0.322</td>\n",
       "      <td>0.298</td>\n",
       "    </tr>\n",
       "    <tr>\n",
       "      <th>5</th>\n",
       "      <td>6</td>\n",
       "      <td>Switzerland</td>\n",
       "      <td>7.480</td>\n",
       "      <td>1.452</td>\n",
       "      <td>1.526</td>\n",
       "      <td>1.052</td>\n",
       "      <td>0.572</td>\n",
       "      <td>0.263</td>\n",
       "      <td>0.343</td>\n",
       "    </tr>\n",
       "    <tr>\n",
       "      <th>6</th>\n",
       "      <td>7</td>\n",
       "      <td>Sweden</td>\n",
       "      <td>7.343</td>\n",
       "      <td>1.387</td>\n",
       "      <td>1.487</td>\n",
       "      <td>1.009</td>\n",
       "      <td>0.574</td>\n",
       "      <td>0.267</td>\n",
       "      <td>0.373</td>\n",
       "    </tr>\n",
       "    <tr>\n",
       "      <th>7</th>\n",
       "      <td>8</td>\n",
       "      <td>New Zealand</td>\n",
       "      <td>7.307</td>\n",
       "      <td>1.303</td>\n",
       "      <td>1.557</td>\n",
       "      <td>1.026</td>\n",
       "      <td>0.585</td>\n",
       "      <td>0.330</td>\n",
       "      <td>0.380</td>\n",
       "    </tr>\n",
       "    <tr>\n",
       "      <th>8</th>\n",
       "      <td>9</td>\n",
       "      <td>Canada</td>\n",
       "      <td>7.278</td>\n",
       "      <td>1.365</td>\n",
       "      <td>1.505</td>\n",
       "      <td>1.039</td>\n",
       "      <td>0.584</td>\n",
       "      <td>0.285</td>\n",
       "      <td>0.308</td>\n",
       "    </tr>\n",
       "    <tr>\n",
       "      <th>9</th>\n",
       "      <td>10</td>\n",
       "      <td>Austria</td>\n",
       "      <td>7.246</td>\n",
       "      <td>1.376</td>\n",
       "      <td>1.475</td>\n",
       "      <td>1.016</td>\n",
       "      <td>0.532</td>\n",
       "      <td>0.244</td>\n",
       "      <td>0.226</td>\n",
       "    </tr>\n",
       "  </tbody>\n",
       "</table>\n",
       "</div>"
      ],
      "text/plain": [
       "   Rank      Country  Happiness_Score  Economy  Social_support  \\\n",
       "0     1      Finland            7.769    1.340           1.587   \n",
       "1     2      Denmark            7.600    1.383           1.573   \n",
       "2     3       Norway            7.554    1.488           1.582   \n",
       "3     4      Iceland            7.494    1.380           1.624   \n",
       "4     5  Netherlands            7.488    1.396           1.522   \n",
       "5     6  Switzerland            7.480    1.452           1.526   \n",
       "6     7       Sweden            7.343    1.387           1.487   \n",
       "7     8  New Zealand            7.307    1.303           1.557   \n",
       "8     9       Canada            7.278    1.365           1.505   \n",
       "9    10      Austria            7.246    1.376           1.475   \n",
       "\n",
       "   Life_Expectancy  Freedom_to_make_life_choices  Generosity  \\\n",
       "0            0.986                         0.596       0.153   \n",
       "1            0.996                         0.592       0.252   \n",
       "2            1.028                         0.603       0.271   \n",
       "3            1.026                         0.591       0.354   \n",
       "4            0.999                         0.557       0.322   \n",
       "5            1.052                         0.572       0.263   \n",
       "6            1.009                         0.574       0.267   \n",
       "7            1.026                         0.585       0.330   \n",
       "8            1.039                         0.584       0.285   \n",
       "9            1.016                         0.532       0.244   \n",
       "\n",
       "   Perceptions_of_corruption  \n",
       "0                      0.393  \n",
       "1                      0.410  \n",
       "2                      0.341  \n",
       "3                      0.118  \n",
       "4                      0.298  \n",
       "5                      0.343  \n",
       "6                      0.373  \n",
       "7                      0.380  \n",
       "8                      0.308  \n",
       "9                      0.226  "
      ]
     },
     "execution_count": 81,
     "metadata": {},
     "output_type": "execute_result"
    }
   ],
   "source": [
    "df4.head(10)"
   ]
  },
  {
   "cell_type": "code",
   "execution_count": 82,
   "id": "4cd9cb6c",
   "metadata": {},
   "outputs": [
    {
     "data": {
      "image/png": "[encoded data removed]",
      "text/plain": [
       "<Figure size 1008x1008 with 6 Axes>"
      ]
     },
     "metadata": {
      "needs_background": "light"
     },
     "output_type": "display_data"
    }
   ],
   "source": [
    "sort_df1 = df1.head(10)\n",
    "sort_df2 = df2.head(10)\n",
    "sort_df3 = df3.head(10)\n",
    "sort_df4 = df4.head(10)\n",
    "sort_df = df.head(10)\n",
    "sad_df4 = df4.tail(10)\n",
    "f, axs = plt.subplots(3,2, figsize = (14,14), constrained_layout = True)\n",
    "ax=sns.barplot(x=\"Country\", y=\"Happiness_Score\", data=sort_df , ax = axs[0, 0])\n",
    "ax.tick_params(axis = 'x', rotation = 45)\n",
    "ax=sns.barplot(x=\"Country\",y=\"Happiness_Score\", data=sort_df1, ax = axs[0, 1])\n",
    "ax.tick_params(axis = 'x', rotation = 45)\n",
    "ax=sns.barplot(x=\"Country\",y=\"Happiness_Score\", data=sort_df2, ax = axs[1, 0])\n",
    "ax.tick_params(axis = 'x', rotation = 45)\n",
    "ax=sns.barplot(x=\"Country\",y=\"Happiness_Score\", data=sort_df3, ax = axs[1, 1])\n",
    "ax.tick_params(axis = 'x', rotation = 45)\n",
    "ax=sns.barplot(x=\"Country\",y=\"Happiness_Score\", data =sort_df4, ax = axs[2, 0])\n",
    "ax.tick_params(axis = 'x', rotation = 45)\n",
    "ax=sns.barplot(x=\"Country\",y=\"Happiness_Score\", data =sad_df4, ax = axs[2, 1])\n",
    "ax.tick_params(axis = 'x', rotation = 45)\n",
    "axs[0, 0].title.set_text('2015 YILI EN MUTLU 10 ULKE')\n",
    "axs[0, 1].title.set_text('2016 YILI EN MUTLU 10 ULKE')\n",
    "axs[1, 0].title.set_text('2017 YILI EN MUTLU 10 ULKE')\n",
    "axs[1, 1].title.set_text('2018 YILI EN MUTLU 10 ULKE')\n",
    "axs[2, 0].title.set_text('2019 YILI EN MUTLU 10 ULKE')\n",
    "axs[2, 1].title.set_text('2019 YILI EN MUTSUZ 10 ULKE')"
   ]
  },
  {
   "cell_type": "markdown",
   "id": "18646b4f",
   "metadata": {},
   "source": [
    "## son data SQL ile oluşturuldu"
   ]
  },
  {
   "cell_type": "code",
   "execution_count": 83,
   "id": "b14b3e04",
   "metadata": {},
   "outputs": [],
   "source": [
    "birlesim=pd.read_csv('sondata.csv')"
   ]
  },
  {
   "cell_type": "code",
   "execution_count": 84,
   "id": "a7ea4536",
   "metadata": {},
   "outputs": [
    {
     "data": {
      "text/html": [
       "<div>\n",
       "<style scoped>\n",
       "    .dataframe tbody tr th:only-of-type {\n",
       "        vertical-align: middle;\n",
       "    }\n",
       "\n",
       "    .dataframe tbody tr th {\n",
       "        vertical-align: top;\n",
       "    }\n",
       "\n",
       "    .dataframe thead th {\n",
       "        text-align: right;\n",
       "    }\n",
       "</style>\n",
       "<table border=\"1\" class=\"dataframe\">\n",
       "  <thead>\n",
       "    <tr style=\"text-align: right;\">\n",
       "      <th></th>\n",
       "      <th>country</th>\n",
       "      <th>mutluluk</th>\n",
       "      <th>mutluluk_1</th>\n",
       "      <th>mutluluk_2</th>\n",
       "      <th>mutluluk_3</th>\n",
       "      <th>score</th>\n",
       "    </tr>\n",
       "  </thead>\n",
       "  <tbody>\n",
       "    <tr>\n",
       "      <th>0</th>\n",
       "      <td>Finland</td>\n",
       "      <td>7.406</td>\n",
       "      <td>7.413</td>\n",
       "      <td>7.469</td>\n",
       "      <td>7.632</td>\n",
       "      <td>7.769</td>\n",
       "    </tr>\n",
       "    <tr>\n",
       "      <th>1</th>\n",
       "      <td>Denmark</td>\n",
       "      <td>7.527</td>\n",
       "      <td>7.526</td>\n",
       "      <td>7.522</td>\n",
       "      <td>7.555</td>\n",
       "      <td>7.600</td>\n",
       "    </tr>\n",
       "    <tr>\n",
       "      <th>2</th>\n",
       "      <td>Norway</td>\n",
       "      <td>7.522</td>\n",
       "      <td>7.498</td>\n",
       "      <td>7.537</td>\n",
       "      <td>7.594</td>\n",
       "      <td>7.554</td>\n",
       "    </tr>\n",
       "    <tr>\n",
       "      <th>3</th>\n",
       "      <td>Iceland</td>\n",
       "      <td>7.561</td>\n",
       "      <td>7.501</td>\n",
       "      <td>7.504</td>\n",
       "      <td>7.495</td>\n",
       "      <td>7.494</td>\n",
       "    </tr>\n",
       "    <tr>\n",
       "      <th>4</th>\n",
       "      <td>Netherlands</td>\n",
       "      <td>7.378</td>\n",
       "      <td>7.339</td>\n",
       "      <td>7.377</td>\n",
       "      <td>7.441</td>\n",
       "      <td>7.488</td>\n",
       "    </tr>\n",
       "    <tr>\n",
       "      <th>5</th>\n",
       "      <td>Switzerland</td>\n",
       "      <td>7.587</td>\n",
       "      <td>7.509</td>\n",
       "      <td>7.494</td>\n",
       "      <td>7.487</td>\n",
       "      <td>7.480</td>\n",
       "    </tr>\n",
       "    <tr>\n",
       "      <th>6</th>\n",
       "      <td>Sweden</td>\n",
       "      <td>7.364</td>\n",
       "      <td>7.291</td>\n",
       "      <td>7.284</td>\n",
       "      <td>7.314</td>\n",
       "      <td>7.343</td>\n",
       "    </tr>\n",
       "    <tr>\n",
       "      <th>7</th>\n",
       "      <td>New Zealand</td>\n",
       "      <td>7.286</td>\n",
       "      <td>7.334</td>\n",
       "      <td>7.314</td>\n",
       "      <td>7.324</td>\n",
       "      <td>7.307</td>\n",
       "    </tr>\n",
       "    <tr>\n",
       "      <th>8</th>\n",
       "      <td>Canada</td>\n",
       "      <td>7.427</td>\n",
       "      <td>7.404</td>\n",
       "      <td>7.316</td>\n",
       "      <td>7.328</td>\n",
       "      <td>7.278</td>\n",
       "    </tr>\n",
       "    <tr>\n",
       "      <th>9</th>\n",
       "      <td>Austria</td>\n",
       "      <td>7.200</td>\n",
       "      <td>7.119</td>\n",
       "      <td>7.006</td>\n",
       "      <td>7.139</td>\n",
       "      <td>7.246</td>\n",
       "    </tr>\n",
       "  </tbody>\n",
       "</table>\n",
       "</div>"
      ],
      "text/plain": [
       "       country  mutluluk  mutluluk_1  mutluluk_2  mutluluk_3  score\n",
       "0      Finland     7.406       7.413       7.469       7.632  7.769\n",
       "1      Denmark     7.527       7.526       7.522       7.555  7.600\n",
       "2       Norway     7.522       7.498       7.537       7.594  7.554\n",
       "3      Iceland     7.561       7.501       7.504       7.495  7.494\n",
       "4  Netherlands     7.378       7.339       7.377       7.441  7.488\n",
       "5  Switzerland     7.587       7.509       7.494       7.487  7.480\n",
       "6       Sweden     7.364       7.291       7.284       7.314  7.343\n",
       "7  New Zealand     7.286       7.334       7.314       7.324  7.307\n",
       "8       Canada     7.427       7.404       7.316       7.328  7.278\n",
       "9      Austria     7.200       7.119       7.006       7.139  7.246"
      ]
     },
     "execution_count": 84,
     "metadata": {},
     "output_type": "execute_result"
    }
   ],
   "source": [
    "birlesim.head(10)"
   ]
  },
  {
   "cell_type": "code",
   "execution_count": 85,
   "id": "507a7cf4",
   "metadata": {},
   "outputs": [],
   "source": [
    "birlesim=birlesim.rename(columns={\"country\":\"Country\",\"mutluluk\":\"2015_yılımutluluk_score\",\n",
    "                                  \"mutluluk_1\":\"2016_yılımutluluk_score\",\n",
    "                                  \"mutluluk_2\":\"2017_yılımutluluk_score\",\n",
    "                                  \"mutluluk_3\":\"2018_yılımutluluk_score\",\n",
    "                                  \"score\":\"2019_yılımutluluk_score\"\n",
    "                        \n",
    "                      })"
   ]
  },
  {
   "cell_type": "code",
   "execution_count": 86,
   "id": "73dc94bd",
   "metadata": {},
   "outputs": [
    {
     "data": {
      "text/html": [
       "<div>\n",
       "<style scoped>\n",
       "    .dataframe tbody tr th:only-of-type {\n",
       "        vertical-align: middle;\n",
       "    }\n",
       "\n",
       "    .dataframe tbody tr th {\n",
       "        vertical-align: top;\n",
       "    }\n",
       "\n",
       "    .dataframe thead th {\n",
       "        text-align: right;\n",
       "    }\n",
       "</style>\n",
       "<table border=\"1\" class=\"dataframe\">\n",
       "  <thead>\n",
       "    <tr style=\"text-align: right;\">\n",
       "      <th></th>\n",
       "      <th>Country</th>\n",
       "      <th>2015_yılımutluluk_score</th>\n",
       "      <th>2016_yılımutluluk_score</th>\n",
       "      <th>2017_yılımutluluk_score</th>\n",
       "      <th>2018_yılımutluluk_score</th>\n",
       "      <th>2019_yılımutluluk_score</th>\n",
       "    </tr>\n",
       "  </thead>\n",
       "  <tbody>\n",
       "    <tr>\n",
       "      <th>0</th>\n",
       "      <td>Finland</td>\n",
       "      <td>7.406</td>\n",
       "      <td>7.413</td>\n",
       "      <td>7.469</td>\n",
       "      <td>7.632</td>\n",
       "      <td>7.769</td>\n",
       "    </tr>\n",
       "    <tr>\n",
       "      <th>1</th>\n",
       "      <td>Denmark</td>\n",
       "      <td>7.527</td>\n",
       "      <td>7.526</td>\n",
       "      <td>7.522</td>\n",
       "      <td>7.555</td>\n",
       "      <td>7.600</td>\n",
       "    </tr>\n",
       "    <tr>\n",
       "      <th>2</th>\n",
       "      <td>Norway</td>\n",
       "      <td>7.522</td>\n",
       "      <td>7.498</td>\n",
       "      <td>7.537</td>\n",
       "      <td>7.594</td>\n",
       "      <td>7.554</td>\n",
       "    </tr>\n",
       "    <tr>\n",
       "      <th>3</th>\n",
       "      <td>Iceland</td>\n",
       "      <td>7.561</td>\n",
       "      <td>7.501</td>\n",
       "      <td>7.504</td>\n",
       "      <td>7.495</td>\n",
       "      <td>7.494</td>\n",
       "    </tr>\n",
       "    <tr>\n",
       "      <th>4</th>\n",
       "      <td>Netherlands</td>\n",
       "      <td>7.378</td>\n",
       "      <td>7.339</td>\n",
       "      <td>7.377</td>\n",
       "      <td>7.441</td>\n",
       "      <td>7.488</td>\n",
       "    </tr>\n",
       "    <tr>\n",
       "      <th>5</th>\n",
       "      <td>Switzerland</td>\n",
       "      <td>7.587</td>\n",
       "      <td>7.509</td>\n",
       "      <td>7.494</td>\n",
       "      <td>7.487</td>\n",
       "      <td>7.480</td>\n",
       "    </tr>\n",
       "    <tr>\n",
       "      <th>6</th>\n",
       "      <td>Sweden</td>\n",
       "      <td>7.364</td>\n",
       "      <td>7.291</td>\n",
       "      <td>7.284</td>\n",
       "      <td>7.314</td>\n",
       "      <td>7.343</td>\n",
       "    </tr>\n",
       "    <tr>\n",
       "      <th>7</th>\n",
       "      <td>New Zealand</td>\n",
       "      <td>7.286</td>\n",
       "      <td>7.334</td>\n",
       "      <td>7.314</td>\n",
       "      <td>7.324</td>\n",
       "      <td>7.307</td>\n",
       "    </tr>\n",
       "    <tr>\n",
       "      <th>8</th>\n",
       "      <td>Canada</td>\n",
       "      <td>7.427</td>\n",
       "      <td>7.404</td>\n",
       "      <td>7.316</td>\n",
       "      <td>7.328</td>\n",
       "      <td>7.278</td>\n",
       "    </tr>\n",
       "    <tr>\n",
       "      <th>9</th>\n",
       "      <td>Austria</td>\n",
       "      <td>7.200</td>\n",
       "      <td>7.119</td>\n",
       "      <td>7.006</td>\n",
       "      <td>7.139</td>\n",
       "      <td>7.246</td>\n",
       "    </tr>\n",
       "  </tbody>\n",
       "</table>\n",
       "</div>"
      ],
      "text/plain": [
       "       Country  2015_yılımutluluk_score  2016_yılımutluluk_score  \\\n",
       "0      Finland                    7.406                    7.413   \n",
       "1      Denmark                    7.527                    7.526   \n",
       "2       Norway                    7.522                    7.498   \n",
       "3      Iceland                    7.561                    7.501   \n",
       "4  Netherlands                    7.378                    7.339   \n",
       "5  Switzerland                    7.587                    7.509   \n",
       "6       Sweden                    7.364                    7.291   \n",
       "7  New Zealand                    7.286                    7.334   \n",
       "8       Canada                    7.427                    7.404   \n",
       "9      Austria                    7.200                    7.119   \n",
       "\n",
       "   2017_yılımutluluk_score  2018_yılımutluluk_score  2019_yılımutluluk_score  \n",
       "0                    7.469                    7.632                    7.769  \n",
       "1                    7.522                    7.555                    7.600  \n",
       "2                    7.537                    7.594                    7.554  \n",
       "3                    7.504                    7.495                    7.494  \n",
       "4                    7.377                    7.441                    7.488  \n",
       "5                    7.494                    7.487                    7.480  \n",
       "6                    7.284                    7.314                    7.343  \n",
       "7                    7.314                    7.324                    7.307  \n",
       "8                    7.316                    7.328                    7.278  \n",
       "9                    7.006                    7.139                    7.246  "
      ]
     },
     "execution_count": 86,
     "metadata": {},
     "output_type": "execute_result"
    }
   ],
   "source": [
    "birlesim.head(10)"
   ]
  },
  {
   "cell_type": "markdown",
   "id": "f95e10f1",
   "metadata": {},
   "source": [
    "## Turkiyenin yıllara gore mutluluk skoru"
   ]
  },
  {
   "cell_type": "code",
   "execution_count": 173,
   "id": "1f7d22a5",
   "metadata": {},
   "outputs": [],
   "source": [
    "first_value = list(birlesim[birlesim.Country=='Turkey'].values[0][1:6])\n",
    "yıllar=list(birlesim.columns[1:6])"
   ]
  },
  {
   "cell_type": "code",
   "execution_count": 174,
   "id": "779ee78a",
   "metadata": {},
   "outputs": [
    {
     "data": {
      "text/plain": [
       "Text(0.5, 1.0, \"Türkiye'nin yıllara göre mutluluk skoru\")"
      ]
     },
     "execution_count": 174,
     "metadata": {},
     "output_type": "execute_result"
    },
    {
     "data": {
      "image/png": "[encoded data removed]",
      "text/plain": [
       "<Figure size 432x288 with 1 Axes>"
      ]
     },
     "metadata": {
      "needs_background": "light"
     },
     "output_type": "display_data"
    }
   ],
   "source": [
    "sns.barplot( y=yıllar,x =first_value)\n",
    "plt.title(\"Türkiye'nin yıllara göre mutluluk skoru\", size=15)"
   ]
  },
  {
   "cell_type": "markdown",
   "id": "43c7ef3d",
   "metadata": {},
   "source": [
    "## Herhangi bir ulkenin yıllara gore mutluluk skoru"
   ]
  },
  {
   "cell_type": "code",
   "execution_count": 182,
   "id": "06a40ce8",
   "metadata": {},
   "outputs": [
    {
     "name": "stdout",
     "output_type": "stream",
     "text": [
      "ulke ismini girgermany\n"
     ]
    },
    {
     "data": {
      "text/plain": [
       "Text(0.5, 1.0, \"Germany'nin yıllara göre mutluluk skoru\")"
      ]
     },
     "execution_count": 182,
     "metadata": {},
     "output_type": "execute_result"
    },
    {
     "data": {
      "image/png": "[encoded data removed]",
      "text/plain": [
       "<Figure size 432x288 with 1 Axes>"
      ]
     },
     "metadata": {
      "needs_background": "light"
     },
     "output_type": "display_data"
    }
   ],
   "source": [
    "a=input('ulke ismini gir')\n",
    "a=a.capitalize()\n",
    "first_value = list(birlesim[birlesim.Country==a].values[0][1:6])\n",
    "yıllar=list(birlesim.columns[1:6])\n",
    "sns.barplot( y=yıllar,x =first_value)\n",
    "plt.title(\"{}'nin yıllara göre mutluluk skoru\".format(a), size=15)"
   ]
  },
  {
   "cell_type": "code",
   "execution_count": 183,
   "id": "1a6ecad1",
   "metadata": {},
   "outputs": [
    {
     "data": {
      "text/html": [
       "<div>\n",
       "<style scoped>\n",
       "    .dataframe tbody tr th:only-of-type {\n",
       "        vertical-align: middle;\n",
       "    }\n",
       "\n",
       "    .dataframe tbody tr th {\n",
       "        vertical-align: top;\n",
       "    }\n",
       "\n",
       "    .dataframe thead th {\n",
       "        text-align: right;\n",
       "    }\n",
       "</style>\n",
       "<table border=\"1\" class=\"dataframe\">\n",
       "  <thead>\n",
       "    <tr style=\"text-align: right;\">\n",
       "      <th></th>\n",
       "      <th>Country</th>\n",
       "      <th>2015_yılımutluluk_score</th>\n",
       "      <th>2016_yılımutluluk_score</th>\n",
       "      <th>2017_yılımutluluk_score</th>\n",
       "      <th>2018_yılımutluluk_score</th>\n",
       "      <th>2019_yılımutluluk_score</th>\n",
       "    </tr>\n",
       "  </thead>\n",
       "  <tbody>\n",
       "    <tr>\n",
       "      <th>0</th>\n",
       "      <td>Finland</td>\n",
       "      <td>7.406</td>\n",
       "      <td>7.413</td>\n",
       "      <td>7.469</td>\n",
       "      <td>7.632</td>\n",
       "      <td>7.769</td>\n",
       "    </tr>\n",
       "    <tr>\n",
       "      <th>1</th>\n",
       "      <td>Denmark</td>\n",
       "      <td>7.527</td>\n",
       "      <td>7.526</td>\n",
       "      <td>7.522</td>\n",
       "      <td>7.555</td>\n",
       "      <td>7.600</td>\n",
       "    </tr>\n",
       "    <tr>\n",
       "      <th>2</th>\n",
       "      <td>Norway</td>\n",
       "      <td>7.522</td>\n",
       "      <td>7.498</td>\n",
       "      <td>7.537</td>\n",
       "      <td>7.594</td>\n",
       "      <td>7.554</td>\n",
       "    </tr>\n",
       "    <tr>\n",
       "      <th>3</th>\n",
       "      <td>Iceland</td>\n",
       "      <td>7.561</td>\n",
       "      <td>7.501</td>\n",
       "      <td>7.504</td>\n",
       "      <td>7.495</td>\n",
       "      <td>7.494</td>\n",
       "    </tr>\n",
       "    <tr>\n",
       "      <th>4</th>\n",
       "      <td>Netherlands</td>\n",
       "      <td>7.378</td>\n",
       "      <td>7.339</td>\n",
       "      <td>7.377</td>\n",
       "      <td>7.441</td>\n",
       "      <td>7.488</td>\n",
       "    </tr>\n",
       "    <tr>\n",
       "      <th>5</th>\n",
       "      <td>Switzerland</td>\n",
       "      <td>7.587</td>\n",
       "      <td>7.509</td>\n",
       "      <td>7.494</td>\n",
       "      <td>7.487</td>\n",
       "      <td>7.480</td>\n",
       "    </tr>\n",
       "    <tr>\n",
       "      <th>6</th>\n",
       "      <td>Sweden</td>\n",
       "      <td>7.364</td>\n",
       "      <td>7.291</td>\n",
       "      <td>7.284</td>\n",
       "      <td>7.314</td>\n",
       "      <td>7.343</td>\n",
       "    </tr>\n",
       "    <tr>\n",
       "      <th>7</th>\n",
       "      <td>New Zealand</td>\n",
       "      <td>7.286</td>\n",
       "      <td>7.334</td>\n",
       "      <td>7.314</td>\n",
       "      <td>7.324</td>\n",
       "      <td>7.307</td>\n",
       "    </tr>\n",
       "    <tr>\n",
       "      <th>8</th>\n",
       "      <td>Canada</td>\n",
       "      <td>7.427</td>\n",
       "      <td>7.404</td>\n",
       "      <td>7.316</td>\n",
       "      <td>7.328</td>\n",
       "      <td>7.278</td>\n",
       "    </tr>\n",
       "    <tr>\n",
       "      <th>9</th>\n",
       "      <td>Austria</td>\n",
       "      <td>7.200</td>\n",
       "      <td>7.119</td>\n",
       "      <td>7.006</td>\n",
       "      <td>7.139</td>\n",
       "      <td>7.246</td>\n",
       "    </tr>\n",
       "  </tbody>\n",
       "</table>\n",
       "</div>"
      ],
      "text/plain": [
       "       Country  2015_yılımutluluk_score  2016_yılımutluluk_score  \\\n",
       "0      Finland                    7.406                    7.413   \n",
       "1      Denmark                    7.527                    7.526   \n",
       "2       Norway                    7.522                    7.498   \n",
       "3      Iceland                    7.561                    7.501   \n",
       "4  Netherlands                    7.378                    7.339   \n",
       "5  Switzerland                    7.587                    7.509   \n",
       "6       Sweden                    7.364                    7.291   \n",
       "7  New Zealand                    7.286                    7.334   \n",
       "8       Canada                    7.427                    7.404   \n",
       "9      Austria                    7.200                    7.119   \n",
       "\n",
       "   2017_yılımutluluk_score  2018_yılımutluluk_score  2019_yılımutluluk_score  \n",
       "0                    7.469                    7.632                    7.769  \n",
       "1                    7.522                    7.555                    7.600  \n",
       "2                    7.537                    7.594                    7.554  \n",
       "3                    7.504                    7.495                    7.494  \n",
       "4                    7.377                    7.441                    7.488  \n",
       "5                    7.494                    7.487                    7.480  \n",
       "6                    7.284                    7.314                    7.343  \n",
       "7                    7.314                    7.324                    7.307  \n",
       "8                    7.316                    7.328                    7.278  \n",
       "9                    7.006                    7.139                    7.246  "
      ]
     },
     "execution_count": 183,
     "metadata": {},
     "output_type": "execute_result"
    }
   ],
   "source": [
    "birlesim.head(10)"
   ]
  },
  {
   "cell_type": "markdown",
   "id": "ed90f614",
   "metadata": {},
   "source": [
    "## Diger bilgiler"
   ]
  },
  {
   "cell_type": "code",
   "execution_count": 269,
   "id": "1edae39c",
   "metadata": {},
   "outputs": [],
   "source": [
    "a=birlesim['2015_yılımutluluk_score']-birlesim['2019_yılımutluluk_score'].round(3)\n"
   ]
  },
  {
   "cell_type": "code",
   "execution_count": 270,
   "id": "4f5ee181",
   "metadata": {},
   "outputs": [],
   "source": [
    "#2015 yılından 2019 yılını  cıkartıp verisetine ekledım.\n",
    "birlesim['Fark']=a"
   ]
  },
  {
   "cell_type": "code",
   "execution_count": 271,
   "id": "a971c962",
   "metadata": {},
   "outputs": [
    {
     "data": {
      "text/html": [
       "<div>\n",
       "<style scoped>\n",
       "    .dataframe tbody tr th:only-of-type {\n",
       "        vertical-align: middle;\n",
       "    }\n",
       "\n",
       "    .dataframe tbody tr th {\n",
       "        vertical-align: top;\n",
       "    }\n",
       "\n",
       "    .dataframe thead th {\n",
       "        text-align: right;\n",
       "    }\n",
       "</style>\n",
       "<table border=\"1\" class=\"dataframe\">\n",
       "  <thead>\n",
       "    <tr style=\"text-align: right;\">\n",
       "      <th></th>\n",
       "      <th>Country</th>\n",
       "      <th>2015_yılımutluluk_score</th>\n",
       "      <th>2016_yılımutluluk_score</th>\n",
       "      <th>2017_yılımutluluk_score</th>\n",
       "      <th>2018_yılımutluluk_score</th>\n",
       "      <th>2019_yılımutluluk_score</th>\n",
       "      <th>Fark</th>\n",
       "      <th>Mutlak</th>\n",
       "    </tr>\n",
       "  </thead>\n",
       "  <tbody>\n",
       "    <tr>\n",
       "      <th>101</th>\n",
       "      <td>Venezuela</td>\n",
       "      <td>6.810</td>\n",
       "      <td>6.084</td>\n",
       "      <td>5.250</td>\n",
       "      <td>4.806</td>\n",
       "      <td>4.707</td>\n",
       "      <td>2.103</td>\n",
       "      <td>0.003</td>\n",
       "    </tr>\n",
       "    <tr>\n",
       "      <th>126</th>\n",
       "      <td>Zambia</td>\n",
       "      <td>5.129</td>\n",
       "      <td>4.795</td>\n",
       "      <td>4.514</td>\n",
       "      <td>4.377</td>\n",
       "      <td>4.107</td>\n",
       "      <td>1.022</td>\n",
       "      <td>0.004</td>\n",
       "    </tr>\n",
       "    <tr>\n",
       "      <th>132</th>\n",
       "      <td>Zimbabwe</td>\n",
       "      <td>4.610</td>\n",
       "      <td>4.193</td>\n",
       "      <td>3.875</td>\n",
       "      <td>3.692</td>\n",
       "      <td>3.663</td>\n",
       "      <td>0.947</td>\n",
       "      <td>0.014</td>\n",
       "    </tr>\n",
       "    <tr>\n",
       "      <th>133</th>\n",
       "      <td>Haiti</td>\n",
       "      <td>4.518</td>\n",
       "      <td>4.028</td>\n",
       "      <td>3.603</td>\n",
       "      <td>3.582</td>\n",
       "      <td>3.597</td>\n",
       "      <td>0.921</td>\n",
       "      <td>0.017</td>\n",
       "    </tr>\n",
       "    <tr>\n",
       "      <th>136</th>\n",
       "      <td>Malawi</td>\n",
       "      <td>4.292</td>\n",
       "      <td>4.156</td>\n",
       "      <td>3.970</td>\n",
       "      <td>3.587</td>\n",
       "      <td>3.410</td>\n",
       "      <td>0.882</td>\n",
       "      <td>0.019</td>\n",
       "    </tr>\n",
       "    <tr>\n",
       "      <th>134</th>\n",
       "      <td>Botswana</td>\n",
       "      <td>4.332</td>\n",
       "      <td>3.974</td>\n",
       "      <td>3.766</td>\n",
       "      <td>3.590</td>\n",
       "      <td>3.488</td>\n",
       "      <td>0.844</td>\n",
       "      <td>0.021</td>\n",
       "    </tr>\n",
       "    <tr>\n",
       "      <th>137</th>\n",
       "      <td>Yemen</td>\n",
       "      <td>4.077</td>\n",
       "      <td>3.724</td>\n",
       "      <td>3.593</td>\n",
       "      <td>3.355</td>\n",
       "      <td>3.380</td>\n",
       "      <td>0.697</td>\n",
       "      <td>0.021</td>\n",
       "    </tr>\n",
       "    <tr>\n",
       "      <th>30</th>\n",
       "      <td>Brazil</td>\n",
       "      <td>6.983</td>\n",
       "      <td>6.952</td>\n",
       "      <td>6.635</td>\n",
       "      <td>6.419</td>\n",
       "      <td>6.300</td>\n",
       "      <td>0.683</td>\n",
       "      <td>0.025</td>\n",
       "    </tr>\n",
       "    <tr>\n",
       "      <th>129</th>\n",
       "      <td>Liberia</td>\n",
       "      <td>4.571</td>\n",
       "      <td>3.622</td>\n",
       "      <td>3.533</td>\n",
       "      <td>3.495</td>\n",
       "      <td>3.975</td>\n",
       "      <td>0.596</td>\n",
       "      <td>0.025</td>\n",
       "    </tr>\n",
       "    <tr>\n",
       "      <th>22</th>\n",
       "      <td>Mexico</td>\n",
       "      <td>7.187</td>\n",
       "      <td>6.778</td>\n",
       "      <td>6.578</td>\n",
       "      <td>6.488</td>\n",
       "      <td>6.595</td>\n",
       "      <td>0.592</td>\n",
       "      <td>0.028</td>\n",
       "    </tr>\n",
       "  </tbody>\n",
       "</table>\n",
       "</div>"
      ],
      "text/plain": [
       "       Country  2015_yılımutluluk_score  2016_yılımutluluk_score  \\\n",
       "101  Venezuela                    6.810                    6.084   \n",
       "126     Zambia                    5.129                    4.795   \n",
       "132   Zimbabwe                    4.610                    4.193   \n",
       "133      Haiti                    4.518                    4.028   \n",
       "136     Malawi                    4.292                    4.156   \n",
       "134   Botswana                    4.332                    3.974   \n",
       "137      Yemen                    4.077                    3.724   \n",
       "30      Brazil                    6.983                    6.952   \n",
       "129    Liberia                    4.571                    3.622   \n",
       "22      Mexico                    7.187                    6.778   \n",
       "\n",
       "     2017_yılımutluluk_score  2018_yılımutluluk_score  \\\n",
       "101                    5.250                    4.806   \n",
       "126                    4.514                    4.377   \n",
       "132                    3.875                    3.692   \n",
       "133                    3.603                    3.582   \n",
       "136                    3.970                    3.587   \n",
       "134                    3.766                    3.590   \n",
       "137                    3.593                    3.355   \n",
       "30                     6.635                    6.419   \n",
       "129                    3.533                    3.495   \n",
       "22                     6.578                    6.488   \n",
       "\n",
       "     2019_yılımutluluk_score   Fark  Mutlak  \n",
       "101                    4.707  2.103   0.003  \n",
       "126                    4.107  1.022   0.004  \n",
       "132                    3.663  0.947   0.014  \n",
       "133                    3.597  0.921   0.017  \n",
       "136                    3.410  0.882   0.019  \n",
       "134                    3.488  0.844   0.021  \n",
       "137                    3.380  0.697   0.021  \n",
       "30                     6.300  0.683   0.025  \n",
       "129                    3.975  0.596   0.025  \n",
       "22                     6.595  0.592   0.028  "
      ]
     },
     "execution_count": 271,
     "metadata": {},
     "output_type": "execute_result"
    }
   ],
   "source": [
    "birlesim.head(10)"
   ]
  },
  {
   "cell_type": "code",
   "execution_count": 272,
   "id": "f0457dfa",
   "metadata": {},
   "outputs": [],
   "source": [
    "# Farkı buyukten kucugue dogru sıraladım\n",
    "birlesim = birlesim.sort_values(by = ['Fark'], ascending = [False])"
   ]
  },
  {
   "cell_type": "code",
   "execution_count": 273,
   "id": "5ace9492",
   "metadata": {},
   "outputs": [
    {
     "data": {
      "text/html": [
       "<div>\n",
       "<style scoped>\n",
       "    .dataframe tbody tr th:only-of-type {\n",
       "        vertical-align: middle;\n",
       "    }\n",
       "\n",
       "    .dataframe tbody tr th {\n",
       "        vertical-align: top;\n",
       "    }\n",
       "\n",
       "    .dataframe thead th {\n",
       "        text-align: right;\n",
       "    }\n",
       "</style>\n",
       "<table border=\"1\" class=\"dataframe\">\n",
       "  <thead>\n",
       "    <tr style=\"text-align: right;\">\n",
       "      <th></th>\n",
       "      <th>Country</th>\n",
       "      <th>2015_yılımutluluk_score</th>\n",
       "      <th>2016_yılımutluluk_score</th>\n",
       "      <th>2017_yılımutluluk_score</th>\n",
       "      <th>2018_yılımutluluk_score</th>\n",
       "      <th>2019_yılımutluluk_score</th>\n",
       "      <th>Fark</th>\n",
       "      <th>Mutlak</th>\n",
       "    </tr>\n",
       "  </thead>\n",
       "  <tbody>\n",
       "    <tr>\n",
       "      <th>101</th>\n",
       "      <td>Venezuela</td>\n",
       "      <td>6.810</td>\n",
       "      <td>6.084</td>\n",
       "      <td>5.250</td>\n",
       "      <td>4.806</td>\n",
       "      <td>4.707</td>\n",
       "      <td>2.103</td>\n",
       "      <td>0.003</td>\n",
       "    </tr>\n",
       "    <tr>\n",
       "      <th>126</th>\n",
       "      <td>Zambia</td>\n",
       "      <td>5.129</td>\n",
       "      <td>4.795</td>\n",
       "      <td>4.514</td>\n",
       "      <td>4.377</td>\n",
       "      <td>4.107</td>\n",
       "      <td>1.022</td>\n",
       "      <td>0.004</td>\n",
       "    </tr>\n",
       "    <tr>\n",
       "      <th>132</th>\n",
       "      <td>Zimbabwe</td>\n",
       "      <td>4.610</td>\n",
       "      <td>4.193</td>\n",
       "      <td>3.875</td>\n",
       "      <td>3.692</td>\n",
       "      <td>3.663</td>\n",
       "      <td>0.947</td>\n",
       "      <td>0.014</td>\n",
       "    </tr>\n",
       "    <tr>\n",
       "      <th>133</th>\n",
       "      <td>Haiti</td>\n",
       "      <td>4.518</td>\n",
       "      <td>4.028</td>\n",
       "      <td>3.603</td>\n",
       "      <td>3.582</td>\n",
       "      <td>3.597</td>\n",
       "      <td>0.921</td>\n",
       "      <td>0.017</td>\n",
       "    </tr>\n",
       "    <tr>\n",
       "      <th>136</th>\n",
       "      <td>Malawi</td>\n",
       "      <td>4.292</td>\n",
       "      <td>4.156</td>\n",
       "      <td>3.970</td>\n",
       "      <td>3.587</td>\n",
       "      <td>3.410</td>\n",
       "      <td>0.882</td>\n",
       "      <td>0.019</td>\n",
       "    </tr>\n",
       "    <tr>\n",
       "      <th>134</th>\n",
       "      <td>Botswana</td>\n",
       "      <td>4.332</td>\n",
       "      <td>3.974</td>\n",
       "      <td>3.766</td>\n",
       "      <td>3.590</td>\n",
       "      <td>3.488</td>\n",
       "      <td>0.844</td>\n",
       "      <td>0.021</td>\n",
       "    </tr>\n",
       "    <tr>\n",
       "      <th>137</th>\n",
       "      <td>Yemen</td>\n",
       "      <td>4.077</td>\n",
       "      <td>3.724</td>\n",
       "      <td>3.593</td>\n",
       "      <td>3.355</td>\n",
       "      <td>3.380</td>\n",
       "      <td>0.697</td>\n",
       "      <td>0.021</td>\n",
       "    </tr>\n",
       "    <tr>\n",
       "      <th>30</th>\n",
       "      <td>Brazil</td>\n",
       "      <td>6.983</td>\n",
       "      <td>6.952</td>\n",
       "      <td>6.635</td>\n",
       "      <td>6.419</td>\n",
       "      <td>6.300</td>\n",
       "      <td>0.683</td>\n",
       "      <td>0.025</td>\n",
       "    </tr>\n",
       "    <tr>\n",
       "      <th>129</th>\n",
       "      <td>Liberia</td>\n",
       "      <td>4.571</td>\n",
       "      <td>3.622</td>\n",
       "      <td>3.533</td>\n",
       "      <td>3.495</td>\n",
       "      <td>3.975</td>\n",
       "      <td>0.596</td>\n",
       "      <td>0.025</td>\n",
       "    </tr>\n",
       "    <tr>\n",
       "      <th>22</th>\n",
       "      <td>Mexico</td>\n",
       "      <td>7.187</td>\n",
       "      <td>6.778</td>\n",
       "      <td>6.578</td>\n",
       "      <td>6.488</td>\n",
       "      <td>6.595</td>\n",
       "      <td>0.592</td>\n",
       "      <td>0.028</td>\n",
       "    </tr>\n",
       "  </tbody>\n",
       "</table>\n",
       "</div>"
      ],
      "text/plain": [
       "       Country  2015_yılımutluluk_score  2016_yılımutluluk_score  \\\n",
       "101  Venezuela                    6.810                    6.084   \n",
       "126     Zambia                    5.129                    4.795   \n",
       "132   Zimbabwe                    4.610                    4.193   \n",
       "133      Haiti                    4.518                    4.028   \n",
       "136     Malawi                    4.292                    4.156   \n",
       "134   Botswana                    4.332                    3.974   \n",
       "137      Yemen                    4.077                    3.724   \n",
       "30      Brazil                    6.983                    6.952   \n",
       "129    Liberia                    4.571                    3.622   \n",
       "22      Mexico                    7.187                    6.778   \n",
       "\n",
       "     2017_yılımutluluk_score  2018_yılımutluluk_score  \\\n",
       "101                    5.250                    4.806   \n",
       "126                    4.514                    4.377   \n",
       "132                    3.875                    3.692   \n",
       "133                    3.603                    3.582   \n",
       "136                    3.970                    3.587   \n",
       "134                    3.766                    3.590   \n",
       "137                    3.593                    3.355   \n",
       "30                     6.635                    6.419   \n",
       "129                    3.533                    3.495   \n",
       "22                     6.578                    6.488   \n",
       "\n",
       "     2019_yılımutluluk_score   Fark  Mutlak  \n",
       "101                    4.707  2.103   0.003  \n",
       "126                    4.107  1.022   0.004  \n",
       "132                    3.663  0.947   0.014  \n",
       "133                    3.597  0.921   0.017  \n",
       "136                    3.410  0.882   0.019  \n",
       "134                    3.488  0.844   0.021  \n",
       "137                    3.380  0.697   0.021  \n",
       "30                     6.300  0.683   0.025  \n",
       "129                    3.975  0.596   0.025  \n",
       "22                     6.595  0.592   0.028  "
      ]
     },
     "execution_count": 273,
     "metadata": {},
     "output_type": "execute_result"
    }
   ],
   "source": [
    "#2015 ve 2019 yılı baz alınarak mutluluk skoru en cok azaln 10 ulke fark pozitif oldugu için mutluluk skoru en\n",
    "#cok azalan ulkelerdir.\n",
    "birlesim.head(10)"
   ]
  },
  {
   "cell_type": "code",
   "execution_count": 274,
   "id": "041d14ca",
   "metadata": {},
   "outputs": [
    {
     "data": {
      "image/png": "[encoded data removed]",
      "text/plain": [
       "<Figure size 432x288 with 1 Axes>"
      ]
     },
     "metadata": {
      "needs_background": "light"
     },
     "output_type": "display_data"
    }
   ],
   "source": [
    "sns.barplot(y = birlesim[\"Country\"][:10], x = birlesim[\"Fark\"][:10])\n",
    "plt.title('Mutluluk skoru en cok azalan 10 ulke')\n",
    "plt.show()"
   ]
  },
  {
   "cell_type": "code",
   "execution_count": 275,
   "id": "626107f1",
   "metadata": {},
   "outputs": [
    {
     "data": {
      "text/html": [
       "<div>\n",
       "<style scoped>\n",
       "    .dataframe tbody tr th:only-of-type {\n",
       "        vertical-align: middle;\n",
       "    }\n",
       "\n",
       "    .dataframe tbody tr th {\n",
       "        vertical-align: top;\n",
       "    }\n",
       "\n",
       "    .dataframe thead th {\n",
       "        text-align: right;\n",
       "    }\n",
       "</style>\n",
       "<table border=\"1\" class=\"dataframe\">\n",
       "  <thead>\n",
       "    <tr style=\"text-align: right;\">\n",
       "      <th></th>\n",
       "      <th>Country</th>\n",
       "      <th>2015_yılımutluluk_score</th>\n",
       "      <th>2016_yılımutluluk_score</th>\n",
       "      <th>2017_yılımutluluk_score</th>\n",
       "      <th>2018_yılımutluluk_score</th>\n",
       "      <th>2019_yılımutluluk_score</th>\n",
       "      <th>Fark</th>\n",
       "      <th>Mutlak</th>\n",
       "    </tr>\n",
       "  </thead>\n",
       "  <tbody>\n",
       "    <tr>\n",
       "      <th>109</th>\n",
       "      <td>Guinea</td>\n",
       "      <td>3.656</td>\n",
       "      <td>3.607</td>\n",
       "      <td>3.507</td>\n",
       "      <td>3.964</td>\n",
       "      <td>4.534</td>\n",
       "      <td>-0.878</td>\n",
       "      <td>0.946</td>\n",
       "    </tr>\n",
       "    <tr>\n",
       "      <th>102</th>\n",
       "      <td>Cambodia</td>\n",
       "      <td>3.819</td>\n",
       "      <td>3.907</td>\n",
       "      <td>4.168</td>\n",
       "      <td>4.433</td>\n",
       "      <td>4.700</td>\n",
       "      <td>-0.881</td>\n",
       "      <td>0.947</td>\n",
       "    </tr>\n",
       "    <tr>\n",
       "      <th>98</th>\n",
       "      <td>Gabon</td>\n",
       "      <td>3.896</td>\n",
       "      <td>4.121</td>\n",
       "      <td>4.465</td>\n",
       "      <td>4.758</td>\n",
       "      <td>4.799</td>\n",
       "      <td>-0.903</td>\n",
       "      <td>0.958</td>\n",
       "    </tr>\n",
       "    <tr>\n",
       "      <th>45</th>\n",
       "      <td>Romania</td>\n",
       "      <td>5.124</td>\n",
       "      <td>5.528</td>\n",
       "      <td>5.825</td>\n",
       "      <td>5.945</td>\n",
       "      <td>6.070</td>\n",
       "      <td>-0.946</td>\n",
       "      <td>1.000</td>\n",
       "    </tr>\n",
       "    <tr>\n",
       "      <th>59</th>\n",
       "      <td>Hungary</td>\n",
       "      <td>4.800</td>\n",
       "      <td>5.145</td>\n",
       "      <td>5.324</td>\n",
       "      <td>5.620</td>\n",
       "      <td>5.758</td>\n",
       "      <td>-0.958</td>\n",
       "      <td>1.022</td>\n",
       "    </tr>\n",
       "    <tr>\n",
       "      <th>106</th>\n",
       "      <td>Burkina Faso</td>\n",
       "      <td>3.587</td>\n",
       "      <td>3.739</td>\n",
       "      <td>4.032</td>\n",
       "      <td>4.424</td>\n",
       "      <td>4.587</td>\n",
       "      <td>-1.000</td>\n",
       "      <td>1.072</td>\n",
       "    </tr>\n",
       "    <tr>\n",
       "      <th>56</th>\n",
       "      <td>Honduras</td>\n",
       "      <td>4.788</td>\n",
       "      <td>4.871</td>\n",
       "      <td>5.181</td>\n",
       "      <td>5.504</td>\n",
       "      <td>5.860</td>\n",
       "      <td>-1.072</td>\n",
       "      <td>1.246</td>\n",
       "    </tr>\n",
       "    <tr>\n",
       "      <th>127</th>\n",
       "      <td>Togo</td>\n",
       "      <td>2.839</td>\n",
       "      <td>3.303</td>\n",
       "      <td>3.495</td>\n",
       "      <td>3.999</td>\n",
       "      <td>4.085</td>\n",
       "      <td>-1.246</td>\n",
       "      <td>1.289</td>\n",
       "    </tr>\n",
       "    <tr>\n",
       "      <th>93</th>\n",
       "      <td>Ivory Coast</td>\n",
       "      <td>3.655</td>\n",
       "      <td>3.916</td>\n",
       "      <td>4.180</td>\n",
       "      <td>4.671</td>\n",
       "      <td>4.944</td>\n",
       "      <td>-1.289</td>\n",
       "      <td>1.543</td>\n",
       "    </tr>\n",
       "    <tr>\n",
       "      <th>96</th>\n",
       "      <td>Benin</td>\n",
       "      <td>3.340</td>\n",
       "      <td>3.484</td>\n",
       "      <td>3.657</td>\n",
       "      <td>4.141</td>\n",
       "      <td>4.883</td>\n",
       "      <td>-1.543</td>\n",
       "      <td>2.103</td>\n",
       "    </tr>\n",
       "  </tbody>\n",
       "</table>\n",
       "</div>"
      ],
      "text/plain": [
       "          Country  2015_yılımutluluk_score  2016_yılımutluluk_score  \\\n",
       "109        Guinea                    3.656                    3.607   \n",
       "102      Cambodia                    3.819                    3.907   \n",
       "98          Gabon                    3.896                    4.121   \n",
       "45        Romania                    5.124                    5.528   \n",
       "59        Hungary                    4.800                    5.145   \n",
       "106  Burkina Faso                    3.587                    3.739   \n",
       "56       Honduras                    4.788                    4.871   \n",
       "127          Togo                    2.839                    3.303   \n",
       "93    Ivory Coast                    3.655                    3.916   \n",
       "96          Benin                    3.340                    3.484   \n",
       "\n",
       "     2017_yılımutluluk_score  2018_yılımutluluk_score  \\\n",
       "109                    3.507                    3.964   \n",
       "102                    4.168                    4.433   \n",
       "98                     4.465                    4.758   \n",
       "45                     5.825                    5.945   \n",
       "59                     5.324                    5.620   \n",
       "106                    4.032                    4.424   \n",
       "56                     5.181                    5.504   \n",
       "127                    3.495                    3.999   \n",
       "93                     4.180                    4.671   \n",
       "96                     3.657                    4.141   \n",
       "\n",
       "     2019_yılımutluluk_score   Fark  Mutlak  \n",
       "109                    4.534 -0.878   0.946  \n",
       "102                    4.700 -0.881   0.947  \n",
       "98                     4.799 -0.903   0.958  \n",
       "45                     6.070 -0.946   1.000  \n",
       "59                     5.758 -0.958   1.022  \n",
       "106                    4.587 -1.000   1.072  \n",
       "56                     5.860 -1.072   1.246  \n",
       "127                    4.085 -1.246   1.289  \n",
       "93                     4.944 -1.289   1.543  \n",
       "96                     4.883 -1.543   2.103  "
      ]
     },
     "execution_count": 275,
     "metadata": {},
     "output_type": "execute_result"
    }
   ],
   "source": [
    "#2015 ve 2019 yılı baz alınarak mutluluk skoru en cok artan 10 ulke fark negatif oldugu için mutluluk skoru artmıs oluyor\n",
    "birlesim.tail(10)"
   ]
  },
  {
   "cell_type": "code",
   "execution_count": 276,
   "id": "2c6a3133",
   "metadata": {},
   "outputs": [
    {
     "data": {
      "image/png": "[encoded data removed]",
      "text/plain": [
       "<Figure size 432x288 with 1 Axes>"
      ]
     },
     "metadata": {
      "needs_background": "light"
     },
     "output_type": "display_data"
    }
   ],
   "source": [
    "sns.barplot(y = birlesim[\"Country\"][-10:], x = birlesim[\"Fark\"][-10:])\n",
    "plt.title('Mutluluk skoru en cok artan 10 ulke')\n",
    "plt.show()"
   ]
  },
  {
   "cell_type": "code",
   "execution_count": 283,
   "id": "a989e765",
   "metadata": {},
   "outputs": [],
   "source": [
    "import numpy as np\n",
    "mutlak_deger=list(map(abs, birlesim['Fark']))\n",
    "mutlak_deger = np.array(mutlak_deger, dtype=np.float32).round(3)"
   ]
  },
  {
   "cell_type": "code",
   "execution_count": 278,
   "id": "e6244d1d",
   "metadata": {},
   "outputs": [
    {
     "data": {
      "text/plain": [
       "array([2.103, 1.022, 0.947, 0.921, 0.882, 0.844, 0.697, 0.683, 0.596,\n",
       "       0.592, 0.55 , 0.55 , 0.536, 0.49 , 0.488, 0.465, 0.447, 0.431,\n",
       "       0.394, 0.372, 0.36 , 0.352, 0.349, 0.327, 0.301, 0.286, 0.278,\n",
       "       0.274, 0.24 , 0.24 , 0.238, 0.237, 0.229, 0.227, 0.226, 0.226,\n",
       "       0.207, 0.192, 0.185, 0.171, 0.149, 0.139, 0.138, 0.135, 0.133,\n",
       "       0.131, 0.127, 0.111, 0.107, 0.101, 0.099, 0.089, 0.076, 0.068,\n",
       "       0.067, 0.059, 0.056, 0.046, 0.036, 0.028, 0.025, 0.021, 0.019,\n",
       "       0.014, 0.004, 0.003, 0.017, 0.021, 0.025, 0.032, 0.041, 0.046,\n",
       "       0.051, 0.053, 0.053, 0.054, 0.073, 0.08 , 0.081, 0.09 , 0.095,\n",
       "       0.11 , 0.123, 0.144, 0.171, 0.181, 0.187, 0.195, 0.203, 0.209,\n",
       "       0.222, 0.235, 0.239, 0.252, 0.258, 0.27 , 0.275, 0.277, 0.313,\n",
       "       0.316, 0.331, 0.347, 0.357, 0.358, 0.363, 0.363, 0.391, 0.395,\n",
       "       0.399, 0.411, 0.411, 0.424, 0.43 , 0.437, 0.456, 0.459, 0.464,\n",
       "       0.48 , 0.511, 0.54 , 0.558, 0.591, 0.681, 0.683, 0.777, 0.783,\n",
       "       0.792, 0.793, 0.823, 0.842, 0.87 , 0.878, 0.881, 0.903, 0.946,\n",
       "       0.958, 1.   , 1.072, 1.246, 1.289, 1.543], dtype=float32)"
      ]
     },
     "execution_count": 278,
     "metadata": {},
     "output_type": "execute_result"
    }
   ],
   "source": [
    "mutlak_deger"
   ]
  },
  {
   "cell_type": "code",
   "execution_count": 285,
   "id": "985623ad",
   "metadata": {},
   "outputs": [],
   "source": [
    "birlesim['Mutlak']=mutlak_deger"
   ]
  },
  {
   "cell_type": "code",
   "execution_count": 292,
   "id": "7bdc2e1f",
   "metadata": {},
   "outputs": [],
   "source": [
    "birlesim=birlesim.sort_values('Mutlak')"
   ]
  },
  {
   "cell_type": "code",
   "execution_count": 293,
   "id": "e949df90",
   "metadata": {},
   "outputs": [
    {
     "data": {
      "text/html": [
       "<div>\n",
       "<style scoped>\n",
       "    .dataframe tbody tr th:only-of-type {\n",
       "        vertical-align: middle;\n",
       "    }\n",
       "\n",
       "    .dataframe tbody tr th {\n",
       "        vertical-align: top;\n",
       "    }\n",
       "\n",
       "    .dataframe thead th {\n",
       "        text-align: right;\n",
       "    }\n",
       "</style>\n",
       "<table border=\"1\" class=\"dataframe\">\n",
       "  <thead>\n",
       "    <tr style=\"text-align: right;\">\n",
       "      <th></th>\n",
       "      <th>Country</th>\n",
       "      <th>2015_yılımutluluk_score</th>\n",
       "      <th>2016_yılımutluluk_score</th>\n",
       "      <th>2017_yılımutluluk_score</th>\n",
       "      <th>2018_yılımutluluk_score</th>\n",
       "      <th>2019_yılımutluluk_score</th>\n",
       "      <th>Fark</th>\n",
       "      <th>Mutlak</th>\n",
       "    </tr>\n",
       "  </thead>\n",
       "  <tbody>\n",
       "    <tr>\n",
       "      <th>45</th>\n",
       "      <td>Romania</td>\n",
       "      <td>5.124</td>\n",
       "      <td>5.528</td>\n",
       "      <td>5.825</td>\n",
       "      <td>5.945</td>\n",
       "      <td>6.070</td>\n",
       "      <td>-0.946</td>\n",
       "      <td>0.946</td>\n",
       "    </tr>\n",
       "    <tr>\n",
       "      <th>132</th>\n",
       "      <td>Zimbabwe</td>\n",
       "      <td>4.610</td>\n",
       "      <td>4.193</td>\n",
       "      <td>3.875</td>\n",
       "      <td>3.692</td>\n",
       "      <td>3.663</td>\n",
       "      <td>0.947</td>\n",
       "      <td>0.947</td>\n",
       "    </tr>\n",
       "    <tr>\n",
       "      <th>59</th>\n",
       "      <td>Hungary</td>\n",
       "      <td>4.800</td>\n",
       "      <td>5.145</td>\n",
       "      <td>5.324</td>\n",
       "      <td>5.620</td>\n",
       "      <td>5.758</td>\n",
       "      <td>-0.958</td>\n",
       "      <td>0.958</td>\n",
       "    </tr>\n",
       "    <tr>\n",
       "      <th>106</th>\n",
       "      <td>Burkina Faso</td>\n",
       "      <td>3.587</td>\n",
       "      <td>3.739</td>\n",
       "      <td>4.032</td>\n",
       "      <td>4.424</td>\n",
       "      <td>4.587</td>\n",
       "      <td>-1.000</td>\n",
       "      <td>1.000</td>\n",
       "    </tr>\n",
       "    <tr>\n",
       "      <th>126</th>\n",
       "      <td>Zambia</td>\n",
       "      <td>5.129</td>\n",
       "      <td>4.795</td>\n",
       "      <td>4.514</td>\n",
       "      <td>4.377</td>\n",
       "      <td>4.107</td>\n",
       "      <td>1.022</td>\n",
       "      <td>1.022</td>\n",
       "    </tr>\n",
       "    <tr>\n",
       "      <th>56</th>\n",
       "      <td>Honduras</td>\n",
       "      <td>4.788</td>\n",
       "      <td>4.871</td>\n",
       "      <td>5.181</td>\n",
       "      <td>5.504</td>\n",
       "      <td>5.860</td>\n",
       "      <td>-1.072</td>\n",
       "      <td>1.072</td>\n",
       "    </tr>\n",
       "    <tr>\n",
       "      <th>127</th>\n",
       "      <td>Togo</td>\n",
       "      <td>2.839</td>\n",
       "      <td>3.303</td>\n",
       "      <td>3.495</td>\n",
       "      <td>3.999</td>\n",
       "      <td>4.085</td>\n",
       "      <td>-1.246</td>\n",
       "      <td>1.246</td>\n",
       "    </tr>\n",
       "    <tr>\n",
       "      <th>93</th>\n",
       "      <td>Ivory Coast</td>\n",
       "      <td>3.655</td>\n",
       "      <td>3.916</td>\n",
       "      <td>4.180</td>\n",
       "      <td>4.671</td>\n",
       "      <td>4.944</td>\n",
       "      <td>-1.289</td>\n",
       "      <td>1.289</td>\n",
       "    </tr>\n",
       "    <tr>\n",
       "      <th>96</th>\n",
       "      <td>Benin</td>\n",
       "      <td>3.340</td>\n",
       "      <td>3.484</td>\n",
       "      <td>3.657</td>\n",
       "      <td>4.141</td>\n",
       "      <td>4.883</td>\n",
       "      <td>-1.543</td>\n",
       "      <td>1.543</td>\n",
       "    </tr>\n",
       "    <tr>\n",
       "      <th>101</th>\n",
       "      <td>Venezuela</td>\n",
       "      <td>6.810</td>\n",
       "      <td>6.084</td>\n",
       "      <td>5.250</td>\n",
       "      <td>4.806</td>\n",
       "      <td>4.707</td>\n",
       "      <td>2.103</td>\n",
       "      <td>2.103</td>\n",
       "    </tr>\n",
       "  </tbody>\n",
       "</table>\n",
       "</div>"
      ],
      "text/plain": [
       "          Country  2015_yılımutluluk_score  2016_yılımutluluk_score  \\\n",
       "45        Romania                    5.124                    5.528   \n",
       "132      Zimbabwe                    4.610                    4.193   \n",
       "59        Hungary                    4.800                    5.145   \n",
       "106  Burkina Faso                    3.587                    3.739   \n",
       "126        Zambia                    5.129                    4.795   \n",
       "56       Honduras                    4.788                    4.871   \n",
       "127          Togo                    2.839                    3.303   \n",
       "93    Ivory Coast                    3.655                    3.916   \n",
       "96          Benin                    3.340                    3.484   \n",
       "101     Venezuela                    6.810                    6.084   \n",
       "\n",
       "     2017_yılımutluluk_score  2018_yılımutluluk_score  \\\n",
       "45                     5.825                    5.945   \n",
       "132                    3.875                    3.692   \n",
       "59                     5.324                    5.620   \n",
       "106                    4.032                    4.424   \n",
       "126                    4.514                    4.377   \n",
       "56                     5.181                    5.504   \n",
       "127                    3.495                    3.999   \n",
       "93                     4.180                    4.671   \n",
       "96                     3.657                    4.141   \n",
       "101                    5.250                    4.806   \n",
       "\n",
       "     2019_yılımutluluk_score   Fark  Mutlak  \n",
       "45                     6.070 -0.946   0.946  \n",
       "132                    3.663  0.947   0.947  \n",
       "59                     5.758 -0.958   0.958  \n",
       "106                    4.587 -1.000   1.000  \n",
       "126                    4.107  1.022   1.022  \n",
       "56                     5.860 -1.072   1.072  \n",
       "127                    4.085 -1.246   1.246  \n",
       "93                     4.944 -1.289   1.289  \n",
       "96                     4.883 -1.543   1.543  \n",
       "101                    4.707  2.103   2.103  "
      ]
     },
     "execution_count": 293,
     "metadata": {},
     "output_type": "execute_result"
    }
   ],
   "source": [
    "birlesim.tail(10)"
   ]
  },
  {
   "cell_type": "code",
   "execution_count": 294,
   "id": "c2c7cbc9",
   "metadata": {},
   "outputs": [
    {
     "data": {
      "image/png": "[encoded data removed]",
      "text/plain": [
       "<Figure size 432x288 with 1 Axes>"
      ]
     },
     "metadata": {
      "needs_background": "light"
     },
     "output_type": "display_data"
    }
   ],
   "source": [
    "sns.barplot(y = birlesim[\"Country\"][-10:], x = birlesim[\"Mutlak\"][-10:])\n",
    "plt.title('Mutluluk skoru en cok degisen 10 ulke')\n",
    "plt.show()"
   ]
  },
  {
   "cell_type": "code",
   "execution_count": 295,
   "id": "e15e0823",
   "metadata": {},
   "outputs": [
    {
     "data": {
      "image/png": "[encoded data removed]",
      "text/plain": [
       "<Figure size 432x288 with 1 Axes>"
      ]
     },
     "metadata": {
      "needs_background": "light"
     },
     "output_type": "display_data"
    }
   ],
   "source": [
    "sns.barplot(y = birlesim[\"Country\"][:10], x = birlesim[\"Mutlak\"][:10])\n",
    "plt.title('Mutluluk skoru en az degisen 10 ulke')\n",
    "plt.show()"
   ]
  },
  {
   "cell_type": "code",
   "execution_count": null,
   "id": "981c4a35",
   "metadata": {},
   "outputs": [],
   "source": []
  }
 ],
 "metadata": {
  "kernelspec": {
   "display_name": "Python 3 (ipykernel)",
   "language": "python",
   "name": "python3"
  },
  "language_info": {
   "codemirror_mode": {
    "name": "ipython",
    "version": 3
   },
   "file_extension": ".py",
   "mimetype": "text/x-python",
   "name": "python",
   "nbconvert_exporter": "python",
   "pygments_lexer": "ipython3",
   "version": "3.9.12"
  }
 },
 "nbformat": 4,
 "nbformat_minor": 5
}
